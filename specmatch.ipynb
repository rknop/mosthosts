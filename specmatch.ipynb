{
 "cells": [
  {
   "cell_type": "code",
   "execution_count": 1,
   "id": "36b6a0ad-15d8-44d6-8708-a0fc9750fe16",
   "metadata": {
    "tags": []
   },
   "outputs": [],
   "source": [
    "%matplotlib inline\n",
    "import sys\n",
    "import math\n",
    "import psycopg2\n",
    "import psycopg2.extras\n",
    "import numpy as np\n",
    "from matplotlib import pyplot"
   ]
  },
  {
   "cell_type": "code",
   "execution_count": 2,
   "id": "f91aa2d8-e092-49c6-9839-a5c38b7c6114",
   "metadata": {},
   "outputs": [],
   "source": [
    "def cursor( conn ):\n",
    "    return conn.cursor( cursor( cursor_factory = psycopg2.extras.RealDictCursor ) )"
   ]
  },
  {
   "cell_type": "code",
   "execution_count": 3,
   "id": "fe2ce019-1c98-4857-b355-8709541721ab",
   "metadata": {},
   "outputs": [],
   "source": [
    "dbhost = \"decatdb.lbl.gov\"\n",
    "dbname = \"desi\"\n",
    "dbuser = \"desi\"\n",
    "dbpasswd = \"put right password here\""
   ]
  },
  {
   "cell_type": "code",
   "execution_count": 12,
   "id": "814742a2-ae64-4f2a-a7b6-6a24c64cb4ea",
   "metadata": {},
   "outputs": [],
   "source": [
    "dbconn = psycopg2.connect( f\"dbname='{dbname}' host='{dbhost}' user='{dbuser}' password='{dbpasswd}'\",\n",
    "                         cursor_factory=psycopg2.extras.RealDictCursor )"
   ]
  },
  {
   "cell_type": "markdown",
   "id": "4ee1cbdc-949f-4aed-8270-940945cb04be",
   "metadata": {},
   "source": [
    "There are a few tables that are relevant here.  The table `mosthosts.mosthosts` table has all the information from Maayane's CSV file.  Columns include:\n",
    "- `ra` (degrees)\n",
    "- `dec` (degrees)\n",
    "- `snname` (some sort of primary name for the supernova)\n",
    "- `hemisphere` (north or south)\n",
    "- `sn_ra` (RA of the supernova this is a possible host for)\n",
    "- `sn_dec` (dec of the supernova this is a possible host for)\n",
    "- `sn_z` (redshift (determined how?) of supernova)\n",
    "- `program` (some indicator of where this supernova came from; multiple things are /-separated)\n",
    "- `tns_name` (not sure what tns is)\n",
    "- `iau_name` (IAU name if the SN has one)\n",
    "- `ptfiptf_name` (probably something from PTF)"
   ]
  },
  {
   "cell_type": "code",
   "execution_count": 5,
   "id": "78178e2f-f158-46a2-a65e-82a9a47ef8c8",
   "metadata": {
    "tags": []
   },
   "outputs": [
    {
     "name": "stdout",
     "output_type": "stream",
     "text": [
      "There are 20174 entries in the mosthosts table.\n",
      "There are 14958 distinct supernovae in the mosthosts table.\n"
     ]
    }
   ],
   "source": [
    "# Count number of supernovae and number of distinct supernovae in the table\n",
    "q = \"SELECT COUNT(snname) AS num FROM mosthosts.mosthosts\"\n",
    "cursor = dbconn.cursor()\n",
    "cursor.execute( q )\n",
    "row = cursor.fetchone()\n",
    "print( f'There are {row[\"num\"]} entries in the mosthosts table.' )\n",
    "\n",
    "q = \"SELECT COUNT(DISTINCT snname) AS num FROM mosthosts.mosthosts\"\n",
    "cursor.execute( q )\n",
    "row = cursor.fetchone()\n",
    "print( f'There are {row[\"num\"]} distinct supernovae in the mosthosts table.' )"
   ]
  },
  {
   "cell_type": "code",
   "execution_count": 6,
   "id": "9f28b461-7436-4340-aab8-ac29f6522f19",
   "metadata": {
    "tags": []
   },
   "outputs": [
    {
     "data": {
      "text/plain": [
       "(array([3246., 3810., 1576.,  638.,  399.,  256.,  157.,  121.,   86.,\n",
       "          66.,   53.,   78.,   59.,   85.,   75.,   79.,   75.,   81.,\n",
       "          71.,   45.]),\n",
       " array([0.  , 0.05, 0.1 , 0.15, 0.2 , 0.25, 0.3 , 0.35, 0.4 , 0.45, 0.5 ,\n",
       "        0.55, 0.6 , 0.65, 0.7 , 0.75, 0.8 , 0.85, 0.9 , 0.95, 1.  ]),\n",
       " <a list of 20 Patch objects>)"
      ]
     },
     "execution_count": 6,
     "metadata": {},
     "output_type": "execute_result"
    },
    {
     "data": {
      "image/png": "[encoded data removed]",
      "text/plain": [
       "<Figure size 432x288 with 1 Axes>"
      ]
     },
     "metadata": {
      "needs_background": "light"
     },
     "output_type": "display_data"
    }
   ],
   "source": [
    "# Make a histogram of redshifts\n",
    "q = \"SELECT sn_z FROM mosthosts.mosthosts\"\n",
    "cursor.execute( q )\n",
    "rows = cursor.fetchall()\n",
    "zvals = np.array( [ row[\"sn_z\"] for row in rows ] )\n",
    "# fig,ax = pyplot.subplots()\n",
    "pyplot.hist( zvals, range=(0,1), bins=20 )"
   ]
  },
  {
   "cell_type": "code",
   "execution_count": 7,
   "id": "eec5c18c-76fe-4362-bd25-9e792d251ee5",
   "metadata": {
    "tags": []
   },
   "outputs": [
    {
     "name": "stderr",
     "output_type": "stream",
     "text": [
      "Working on 20174 mosthosts...\n",
      "Did 0 of 20174; nnone=0, none=0, nmult=0, nmulttarget=0\n",
      "Did 1000 of 20174; nnone=0, none=0, nmult=1000, nmulttarget=96\n",
      "WARNING: ZTF19aapocyd had no entries in the secondary table\n",
      "Did 2000 of 20174; nnone=1, none=0, nmult=1999, nmulttarget=177\n",
      "Did 3000 of 20174; nnone=1, none=0, nmult=2999, nmulttarget=276\n",
      "Did 4000 of 20174; nnone=1, none=0, nmult=3999, nmulttarget=379\n",
      "Did 5000 of 20174; nnone=1, none=0, nmult=4999, nmulttarget=491\n",
      "Did 6000 of 20174; nnone=1, none=0, nmult=5999, nmulttarget=654\n",
      "Did 7000 of 20174; nnone=1, none=0, nmult=6999, nmulttarget=820\n",
      "Did 8000 of 20174; nnone=1, none=0, nmult=7999, nmulttarget=1000\n",
      "Did 9000 of 20174; nnone=1, none=0, nmult=8999, nmulttarget=1145\n",
      "Did 10000 of 20174; nnone=1, none=0, nmult=9999, nmulttarget=1276\n",
      "Did 11000 of 20174; nnone=1, none=0, nmult=10999, nmulttarget=1374\n",
      "Did 12000 of 20174; nnone=1, none=0, nmult=11999, nmulttarget=1457\n",
      "Did 13000 of 20174; nnone=1, none=0, nmult=12999, nmulttarget=1562\n",
      "Did 14000 of 20174; nnone=1, none=0, nmult=13999, nmulttarget=1607\n",
      "Did 15000 of 20174; nnone=1, none=0, nmult=14999, nmulttarget=1671\n",
      "Did 16000 of 20174; nnone=1, none=0, nmult=15999, nmulttarget=1749\n",
      "WARNING: ZTF19aaqdrtb had no entries in the secondary table\n",
      "Did 17000 of 20174; nnone=2, none=0, nmult=16998, nmulttarget=1836\n",
      "Did 18000 of 20174; nnone=2, none=0, nmult=17998, nmulttarget=1915\n",
      "Did 19000 of 20174; nnone=2, none=0, nmult=18998, nmulttarget=2012\n",
      "Did 20000 of 20174; nnone=2, none=0, nmult=19998, nmulttarget=2164\n"
     ]
    },
    {
     "name": "stdout",
     "output_type": "stream",
     "text": [
      "2 weren't found in the secondary table, 0 had one match, 20172 had >1 match, 2168 had >1 targetid.\n"
     ]
    }
   ],
   "source": [
    "# Associate the targetid from the public.secondary table.  There may be \n",
    "# clever way to do this all in SQL, but I'm banging it out in Python here.\n",
    "# This is a little bit slow (but orders of magnitude faster than it was\n",
    "# before I added the q3c index to public.secondary!).  It will update you\n",
    "# every 1000 it completes; it takes 10-30 seconds to do each 1000.\n",
    "cursor = dbconn.cursor()\n",
    "q = \"SELECT ra,dec,snname,sn_ra,sn_dec,sn_z,program,tns_name,iau_name,ptfiptf_name FROM mosthosts.mosthosts\"\n",
    "cursor.execute( q )\n",
    "mosthosts = cursor.fetchall()\n",
    "sys.stderr.write( f'Working on {len(mosthosts)} mosthosts...\\n' )\n",
    "radius = 1./3600.\n",
    "nnone = 0\n",
    "nmult = 0\n",
    "none = 0\n",
    "nmulttarget = 0\n",
    "for i, row in enumerate(mosthosts):\n",
    "    if (i%1000) == 0:\n",
    "        sys.stderr.write( f\"Did {i} of {len(mosthosts)}; nnone={nnone}, none={none}, nmult={nmult}, nmulttarget={nmulttarget}\\n\" ) \n",
    "    q = ( \"SELECT ra,dec,targetid,program FROM public.secondary \"\n",
    "          \"WHERE q3c_radial_query( ra, dec, %(ra)s, %(dec)s, %(radius)s ) \"\n",
    "          \"   AND program='SN_HOSTS'\" )\n",
    "    # sys.stderr.write( f'Query: \"{cursor.mogrify( q, { \"ra\": row[\"ra\"], \"dec\": row[\"dec\"], \"radius\": radius } )}\"\\n' )\n",
    "    cursor.execute( q, { 'ra': row[\"ra\"],\n",
    "                         'dec': row['dec'],\n",
    "                         'radius': radius } )\n",
    "    matches = cursor.fetchall()\n",
    "    if len(matches) == 0:\n",
    "        for field in [ \"targetid\", \"secondary_ra\", \"secondary_dec\", \"secondary_program\" ]:\n",
    "            row[field] = []\n",
    "        nnone += 1\n",
    "        sys.stderr.write( f'WARNING: {row[\"snname\"]} had no entries in the secondary table\\n' )\n",
    "    else:\n",
    "        if len(matches) > 1:\n",
    "            # sys.stderr.write( f'{len(matches)} matches\\n' )\n",
    "            nmult += 1\n",
    "        else:\n",
    "            none += 1\n",
    "        row[\"targetid\"] = [ match[\"targetid\"] for match in matches ]\n",
    "        if len( set(row[\"targetid\"]) ) > 1:\n",
    "            nmulttarget += 1\n",
    "        row[\"secondary_ra\"] = [ match[\"ra\"] for match in matches ]\n",
    "        row[\"secondary_dec\"] = [ match[\"dec\"] for match in matches ]\n",
    "        row[\"secondary_program\"] = [ match[\"program\"] for match in matches ]\n",
    "print( f\"{nnone} weren't found in the secondary table, {none} had one match, {nmult} had >1 match, {nmulttarget} had >1 targetid.\" )\n",
    "        "
   ]
  },
  {
   "cell_type": "code",
   "execution_count": 18,
   "id": "9414415b-29dd-46db-b206-05b6eb4c4e95",
   "metadata": {
    "tags": []
   },
   "outputs": [
    {
     "name": "stderr",
     "output_type": "stream",
     "text": [
      "Did 0 of 20174; 0 have at least 1 match\n",
      "Did 1000 of 20174; 47 have at least 1 match\n",
      "Skipping ZTF19aapocyd, it has no target ids\n",
      "Did 2000 of 20174; 115 have at least 1 match\n",
      "Did 3000 of 20174; 149 have at least 1 match\n",
      "Did 4000 of 20174; 190 have at least 1 match\n",
      "Did 5000 of 20174; 241 have at least 1 match\n",
      "Did 6000 of 20174; 298 have at least 1 match\n",
      "Did 7000 of 20174; 356 have at least 1 match\n",
      "Did 8000 of 20174; 407 have at least 1 match\n",
      "Did 9000 of 20174; 463 have at least 1 match\n",
      "Did 10000 of 20174; 502 have at least 1 match\n",
      "Did 11000 of 20174; 532 have at least 1 match\n",
      "Did 12000 of 20174; 582 have at least 1 match\n",
      "Did 13000 of 20174; 641 have at least 1 match\n",
      "Did 14000 of 20174; 689 have at least 1 match\n",
      "Did 15000 of 20174; 754 have at least 1 match\n",
      "Did 16000 of 20174; 836 have at least 1 match\n",
      "Skipping ZTF19aaqdrtb, it has no target ids\n",
      "Did 17000 of 20174; 899 have at least 1 match\n",
      "Did 18000 of 20174; 945 have at least 1 match\n",
      "Did 19000 of 20174; 997 have at least 1 match\n",
      "Did 20000 of 20174; 1029 have at least 1 match\n"
     ]
    },
    {
     "name": "stdout",
     "output_type": "stream",
     "text": [
      "19144 have  0 matches\n",
      "  998 have  1 matches\n",
      "   29 have  2 matches\n",
      "    0 have  3 matches\n",
      "    1 have  4 matches\n",
      "    0 have  5 matches\n",
      "    0 have  6 matches\n",
      "    0 have  7 matches\n",
      "    0 have  8 matches\n",
      "    0 have  9 matches\n",
      "    0 have 10+ matches\n"
     ]
    }
   ],
   "source": [
    "# Use the targetids we determined to suck in the redshifts \n",
    "# of the hosts from everest.zpix_redshifts\n",
    "#\n",
    "# nhist is going to be a histogram of number of \n",
    "# redshifts found in everest.zpix_redshifts for each\n",
    "# entry in the mosthosts table.\n",
    "#\n",
    "# REMEMBER that sometimes the same SN shows up more than\n",
    "# once in the mosthosts table!  Will need to take this\n",
    "# into account when doing statistics later.\n",
    "#\n",
    "# This one takes a few seconds per 1000.  (It was *much* slower\n",
    "# without an index.  If you ever make a postgres database,\n",
    "# having the right indexes is important for search time.\n",
    "# Of course, adding more indexes slows down insert time....\n",
    "\n",
    "cursor = dbconn.cursor()\n",
    "nhist = np.zeros( 11, dtype=int )\n",
    "for i, row in enumerate(mosthosts):\n",
    "    if (i%1000 == 0):\n",
    "        sys.stderr.write( f'Did {i} of {len(mosthosts)}; {i-nhist[0]:d} have at least 1 match\\n' )\n",
    "    if len( row['targetid'] ) == 0:\n",
    "        sys.stderr.write( f\"Skipping {row['snname']}, it has no target ids\\n\" )\n",
    "        continue\n",
    "    q = ( \"SELECT z,zerr,zwarn,spectype,subtype FROM everest.zpix_redshifts \"\n",
    "          \"WHERE targetid in %s\" )\n",
    "    cursor.execute( q, ( tuple(row['targetid']), ) )\n",
    "    matches = cursor.fetchall()\n",
    "    if len(matches) == 0:\n",
    "        nhist[0] += 1\n",
    "        for field in ( 'z', 'zerr', 'zwarn', 'spectype', 'subtype' ):\n",
    "            row['field'] = []\n",
    "    else:\n",
    "        if len(matches) >= 10:\n",
    "            nhist[10] += 1\n",
    "        else:\n",
    "            nhist[ len(matches) ] += 1\n",
    "        row['z'] = [ m['z'] for m in matches ]\n",
    "        row['zerr'] = [ m['zerr'] for m in matches ]\n",
    "        row['zwarn'] = [ m['zwarn'] for m in matches ]\n",
    "        row['spectype'] = [ m['spectype'] for m in matches ]\n",
    "        row['subtype'] = [ m['subtype'] for m in matches ]\n",
    "sys.stderr.flush()\n",
    "for i,val in enumerate(nhist):\n",
    "    if i == 10:\n",
    "        print( f'{val:5d} have {i:2d}+ matches' )\n",
    "    else:\n",
    "        print( f'{val:5d} have {i:2d} matches' )"
   ]
  },
  {
   "cell_type": "code",
   "execution_count": 22,
   "id": "cc2cf160-f898-4652-b016-ce40f53de85c",
   "metadata": {},
   "outputs": [
    {
     "name": "stdout",
     "output_type": "stream",
     "text": [
      "988 supernovae in the mosthosts lists have an everest redshift\n"
     ]
    }
   ],
   "source": [
    "# Figure out how many *independent* supernovae have matches, and get their zs\n",
    "SNeWithZ = {}\n",
    "for row in mosthosts:\n",
    "    if not 'z' in row:\n",
    "        continue\n",
    "    sn = row['snname']\n",
    "    if len(row['z'])>0:\n",
    "        if sn in SNeWithZ:\n",
    "            SNeWithZ[sn]['z'].extend(row['z'])\n",
    "            SNeWithZ[sn]['zerr'].extend(row['zerr'])\n",
    "            SNeWithZ[sn]['zwarn'].extend(row['zwarn'])\n",
    "            SNeWithZ[sn]['spectype'].extend(row['spectype'])\n",
    "            SNeWithZ[sn]['subtype'].extend(row['subtype'])\n",
    "        else:\n",
    "            SNeWithZ[sn] = {}\n",
    "            SNeWithZ[sn]['z'] = list(row['z'])\n",
    "            SNeWithZ[sn]['zerr'] = list(row['zerr'])\n",
    "            SNeWithZ[sn]['zwarn'] = list(row['zwarn'])\n",
    "            SNeWithZ[sn]['spectype'] = list(row['spectype'])\n",
    "            SNeWithZ[sn]['subtype'] = list(row['subtype'])\n",
    "print( f'{len(SNeWithZ)} supernovae in the mosthosts lists have an everest redshift' )\n",
    "# Turn the numerical values into numpy arrays for convenience\n",
    "for sn,row in SNeWithZ.items():\n",
    "    row['z'] = np.array(row['z'])\n",
    "    row['zerr'] = np.array(row['zerr'])\n",
    "    row['numz'] = row['z'].size\n",
    "    row['meanz'] = row['z'].mean()\n",
    "    row['stdz'] = np.std(row['z'])"
   ]
  },
  {
   "cell_type": "code",
   "execution_count": 29,
   "id": "028d80f7-3396-427e-8669-e9727642b763",
   "metadata": {},
   "outputs": [
    {
     "data": {
      "image/png": "[encoded data removed]",
      "text/plain": [
       "<Figure size 432x288 with 1 Axes>"
      ]
     },
     "metadata": {
      "needs_background": "light"
     },
     "output_type": "display_data"
    }
   ],
   "source": [
    "# Let's make a histogram of those zs\n",
    "zvals = [ row['meanz'] for sn,row in SNeWithZ.items() ]\n",
    "fig, ax = pyplot.subplots()\n",
    "ax.hist( zvals, range=(0,1), bins=20)\n",
    "ax.set_xlabel('z')\n",
    "ax.set_ylabel('N')\n",
    "fig.show()"
   ]
  },
  {
   "cell_type": "code",
   "execution_count": null,
   "id": "4a749085-89df-460d-a8c5-9d990379dcdd",
   "metadata": {},
   "outputs": [],
   "source": []
  }
 ],
 "metadata": {
  "kernelspec": {
   "display_name": "Python 3",
   "language": "python",
   "name": "python3"
  },
  "language_info": {
   "codemirror_mode": {
    "name": "ipython",
    "version": 3
   },
   "file_extension": ".py",
   "mimetype": "text/x-python",
   "name": "python",
   "nbconvert_exporter": "python",
   "pygments_lexer": "ipython3",
   "version": "3.7.4"
  }
 },
 "nbformat": 4,
 "nbformat_minor": 5
}
