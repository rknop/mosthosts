{
 "cells": [
  {
   "cell_type": "code",
   "execution_count": 1,
   "id": "36b6a0ad-15d8-44d6-8708-a0fc9750fe16",
   "metadata": {
    "tags": []
   },
   "outputs": [],
   "source": [
    "%matplotlib inline\n",
    "import sys\n",
    "import math\n",
    "import numpy as np\n",
    "import pandas\n",
    "from matplotlib import pyplot\n",
    "from mosthosts_desi import MostHostsDesi"
   ]
  },
  {
   "cell_type": "markdown",
   "id": "4493c8a5-5cf5-47de-91fa-6c2eabbccbd0",
   "metadata": {},
   "source": [
    "## Finding all DESI observations of MostHosts objects\n",
    "\n",
    "The MostHostsDesi class will match all of the RA/Dec from Mosthosts to the daily tables of observations from DESI.  It builds a (somewhat complicated) Pandas datastructure with all of the matches, and then writes that data structure to a csv file.  Look at that file for documentation on how it works."
   ]
  },
  {
   "cell_type": "code",
   "execution_count": 2,
   "id": "91c0c770-85c8-4030-afd9-2efc5ae93325",
   "metadata": {},
   "outputs": [
    {
     "name": "stderr",
     "output_type": "stream",
     "text": [
      "[2021-11-16 13:31:46,965 - INFO] - Reading mosthosts_desi.csv\n",
      "[2021-11-16 13:31:49,819 - INFO] - Checking...\n",
      "[2021-11-16 13:31:49,894 - INFO] - Read mosthosts_desi.csv\n"
     ]
    }
   ],
   "source": [
    "# To actually use this, you'll need to pass a database user and password.\n",
    "# See the docstring on MostHostsDesi.__init__ for more information.\n",
    "mhd = MostHostsDesi()"
   ]
  },
  {
   "cell_type": "code",
   "execution_count": 3,
   "id": "6e371e52-30a5-46dc-88ac-4e40e79e41a7",
   "metadata": {},
   "outputs": [
    {
     "name": "stdout",
     "output_type": "stream",
     "text": [
      "...as of when the csv file was last regenerated:\n",
      "20174 entries in the MostHosts database\n",
      "14958 different SNe/AGN in MostHosts database\n",
      "2142 hosts have at least one DESI zwarn=0 redshift\n",
      "2075 SNe/AGN have at least one host observed by DESI\n",
      "\n",
      "2015 SNe/AGN have  1 hosts with at least one zwarn=0 DESI redshift\n",
      "  54 SNe/AGN have  2 hosts with at least one zwarn=0 DESI redshift\n",
      "   5 SNe/AGN have  3 hosts with at least one zwarn=0 DESI redshift\n",
      "   1 SNe/AGN have  4 hosts with at least one zwarn=0 DESI redshift\n",
      "\n",
      "1680 different SNe have at least one DESI zwarn=0 redshift\n",
      "\n",
      "1620 SNe have  1 hosts with at least one zwarn=0 DESI redshift\n",
      "  54 SNe have  2 hosts with at least one zwarn=0 DESI redshift\n",
      "   5 SNe have  3 hosts with at least one zwarn=0 DESI redshift\n",
      "   1 SNe have  4 hosts with at least one zwarn=0 DESI redshift\n"
     ]
    }
   ],
   "source": [
    "# Print out some statistics\n",
    "print( f'...as of when the csv file was last regenerated:' )\n",
    "print( f'{len(mhd.df)} entries in the MostHosts database' )\n",
    "print( f'{len(mhd.df.groupby(\"snname\"))} different SNe/AGN in MostHosts database' )\n",
    "print( f'{len(mhd.haszdf)} hosts have at least one DESI zwarn=0 redshift' )\n",
    "hostcounts = mhd.haszdf.reset_index().groupby(\"snname\")[\"index\"].count().rename(\"n\")\n",
    "print( f'{len(hostcounts)} SNe/AGN have at least one host observed by DESI' )\n",
    "\n",
    "print()\n",
    "hostcounts = hostcounts.groupby(hostcounts).count()\n",
    "for n, counts in hostcounts.iteritems():\n",
    "    print( f'{counts:4d} SNe/AGN have {n:2d} hosts with at least one zwarn=0 DESI redshift' )\n",
    "\n",
    "# Make a version omitting the QSOs\n",
    "print()\n",
    "justsne = mhd.haszdf[ mhd.haszdf['program'].apply( lambda x: 'QSO' not in x ) ]\n",
    "hostcounts = justsne.reset_index().groupby(\"snname\")[\"index\"].count().rename(\"n\")\n",
    "print( f'{len(hostcounts)} different SNe have at least one DESI zwarn=0 redshift' )\n",
    "\n",
    "print()\n",
    "hostcounts = hostcounts.groupby(hostcounts).count()\n",
    "for n, counts in hostcounts.iteritems():\n",
    "    print( f'{counts:4d} SNe have {n:2d} hosts with at least one zwarn=0 DESI redshift' )"
   ]
  },
  {
   "cell_type": "code",
   "execution_count": 4,
   "id": "028d80f7-3396-427e-8669-e9727642b763",
   "metadata": {},
   "outputs": [
    {
     "data": {
      "image/png": "[encoded data removed]",
      "text/plain": [
       "<Figure size 864x432 with 1 Axes>"
      ]
     },
     "metadata": {
      "needs_background": "light"
     },
     "output_type": "display_data"
    }
   ],
   "source": [
    "# Make a histogram of *independent* supernova zs.  I'm just going to take the first measurement\n",
    "#  for each supernova... which may well not be the right one!\n",
    "\n",
    "subframe = justsne.groupby( 'snname' ).agg('first')\n",
    "\n",
    "# Let's make a histogram of those zs\n",
    "fig = pyplot.figure( figsize=(12,6), tight_layout=True )\n",
    "ax = fig.add_subplot(1, 1, 1)\n",
    "ax.hist( subframe['z'], range=(0,1), bins=20)\n",
    "ax.set_xlabel('z', fontsize=18)\n",
    "ax.set_ylabel('N', fontsize=18)\n",
    "ax.set_title( 'MostHosts SNe DESI redshifts', fontsize=18 )\n",
    "#ax.set_yscale('log')\n",
    "ax.tick_params( axis='both', labelsize=16 )\n",
    "fig.show()\n",
    "fig.savefig( 'mosthostsz.svg' )\n"
   ]
  },
  {
   "cell_type": "code",
   "execution_count": null,
   "id": "06d8fe60-8d73-4e37-94a0-62161659a262",
   "metadata": {},
   "outputs": [],
   "source": []
  }
 ],
 "metadata": {
  "kernelspec": {
   "display_name": "Python 3",
   "language": "python",
   "name": "python3"
  },
  "language_info": {
   "codemirror_mode": {
    "name": "ipython",
    "version": 3
   },
   "file_extension": ".py",
   "mimetype": "text/x-python",
   "name": "python",
   "nbconvert_exporter": "python",
   "pygments_lexer": "ipython3",
   "version": "3.8.8"
  }
 },
 "nbformat": 4,
 "nbformat_minor": 5
}
