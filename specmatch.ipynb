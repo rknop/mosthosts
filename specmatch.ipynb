{
 "cells": [
  {
   "cell_type": "code",
   "execution_count": 1,
   "id": "36b6a0ad-15d8-44d6-8708-a0fc9750fe16",
   "metadata": {
    "tags": []
   },
   "outputs": [],
   "source": [
    "%matplotlib inline\n",
    "import sys\n",
    "import math\n",
    "import numpy as np\n",
    "import pandas\n",
    "from matplotlib import pyplot\n",
    "from mosthosts_desi import MostHostsDesi"
   ]
  },
  {
   "cell_type": "markdown",
   "id": "4493c8a5-5cf5-47de-91fa-6c2eabbccbd0",
   "metadata": {},
   "source": [
    "## Finding all DESI observations of MostHosts objects\n",
    "\n",
    "The MostHostsDesi class will match all of the RA/Dec from Mosthosts to the daily tables of observations from DESI.  It builds a (somewhat complicated) Pandas datastructure with all of the matches, and then writes that data structure to a csv file.  Look at that file for documentation on how it works."
   ]
  },
  {
   "cell_type": "code",
   "execution_count": 2,
   "id": "91c0c770-85c8-4030-afd9-2efc5ae93325",
   "metadata": {},
   "outputs": [
    {
     "name": "stderr",
     "output_type": "stream",
     "text": [
      "[2021-10-26 10:56:18,560 - WARNING] - Building mosthosts_desi.csv from database.\n",
      "[2021-10-26 10:56:19,519 - INFO] - Did 0 of 20174; 0 have at least 1 match\n",
      "[2021-10-26 10:56:25,946 - INFO] - Did 1000 of 20174; 103 have at least 1 match\n",
      "[2021-10-26 10:56:32,377 - INFO] - Did 2000 of 20174; 237 have at least 1 match\n",
      "[2021-10-26 10:56:38,799 - INFO] - Did 3000 of 20174; 339 have at least 1 match\n",
      "[2021-10-26 10:56:45,220 - INFO] - Did 4000 of 20174; 551 have at least 1 match\n",
      "[2021-10-26 10:56:51,723 - INFO] - Did 5000 of 20174; 683 have at least 1 match\n",
      "[2021-10-26 10:56:58,268 - INFO] - Did 6000 of 20174; 824 have at least 1 match\n",
      "[2021-10-26 10:57:04,823 - INFO] - Did 7000 of 20174; 890 have at least 1 match\n",
      "[2021-10-26 10:57:11,203 - INFO] - Did 8000 of 20174; 957 have at least 1 match\n",
      "[2021-10-26 10:57:17,449 - INFO] - Did 9000 of 20174; 1029 have at least 1 match\n",
      "[2021-10-26 10:57:23,978 - INFO] - Did 10000 of 20174; 1113 have at least 1 match\n",
      "[2021-10-26 10:57:30,408 - INFO] - Did 11000 of 20174; 1182 have at least 1 match\n",
      "[2021-10-26 10:57:36,750 - INFO] - Did 12000 of 20174; 1237 have at least 1 match\n",
      "[2021-10-26 10:57:43,283 - INFO] - Did 13000 of 20174; 1290 have at least 1 match\n",
      "[2021-10-26 10:57:49,737 - INFO] - Did 14000 of 20174; 1346 have at least 1 match\n",
      "[2021-10-26 10:57:56,307 - INFO] - Did 15000 of 20174; 1414 have at least 1 match\n",
      "[2021-10-26 10:58:02,730 - INFO] - Did 16000 of 20174; 1490 have at least 1 match\n",
      "[2021-10-26 10:58:09,027 - INFO] - Did 17000 of 20174; 1591 have at least 1 match\n",
      "[2021-10-26 10:58:15,493 - INFO] - Did 18000 of 20174; 1655 have at least 1 match\n",
      "[2021-10-26 10:58:22,024 - INFO] - Did 19000 of 20174; 1745 have at least 1 match\n",
      "[2021-10-26 10:58:28,421 - INFO] - Did 20000 of 20174; 1871 have at least 1 match\n",
      "[2021-10-26 10:58:34,973 - WARNING] - File mosthosts_desi.csv written (I hope).\n"
     ]
    }
   ],
   "source": [
    "# To actually use this, you'll need to pass a database user and password.\n",
    "# See the docstring on MostHostsDesi.__init__ for more information.\n",
    "mhd = MostHostsDesi()"
   ]
  },
  {
   "cell_type": "code",
   "execution_count": 3,
   "id": "6e371e52-30a5-46dc-88ac-4e40e79e41a7",
   "metadata": {},
   "outputs": [
    {
     "name": "stdout",
     "output_type": "stream",
     "text": [
      "...as of when the csv file was last regenerated:\n",
      "20174 entries in the MostHosts database\n",
      "14958 different SNe/AGN in MostHosts database\n",
      "1850 hosts have at least one DESI zwarn=0 redshift\n",
      "1791 SNe/AGN have at least one host observed by DESI\n",
      "\n",
      "1739 SNe/AGN have  1 hosts with at least one zwarn=0 DESI redshift\n",
      "  46 SNe/AGN have  2 hosts with at least one zwarn=0 DESI redshift\n",
      "   5 SNe/AGN have  3 hosts with at least one zwarn=0 DESI redshift\n",
      "   1 SNe/AGN have  4 hosts with at least one zwarn=0 DESI redshift\n",
      "\n",
      "1524 different SNe have at least one DESI zwarn=0 redshift\n",
      "\n",
      "1472 SNe have  1 hosts with at least one zwarn=0 DESI redshift\n",
      "  46 SNe have  2 hosts with at least one zwarn=0 DESI redshift\n",
      "   5 SNe have  3 hosts with at least one zwarn=0 DESI redshift\n",
      "   1 SNe have  4 hosts with at least one zwarn=0 DESI redshift\n"
     ]
    }
   ],
   "source": [
    "# Print out some statistics\n",
    "print( f'...as of when the csv file was last regenerated:' )\n",
    "print( f'{len(mhd.df)} entries in the MostHosts database' )\n",
    "print( f'{len(mhd.df.groupby(\"snname\"))} different SNe/AGN in MostHosts database' )\n",
    "print( f'{len(mhd.haszdf)} hosts have at least one DESI zwarn=0 redshift' )\n",
    "hostcounts = mhd.haszdf.reset_index().groupby(\"snname\")[\"snhostnum\"].count().rename(\"n\")\n",
    "print( f'{len(hostcounts)} SNe/AGN have at least one host observed by DESI' )\n",
    "\n",
    "print()\n",
    "hostcounts = hostcounts.groupby(hostcounts).count()\n",
    "for n, counts in hostcounts.iteritems():\n",
    "    print( f'{counts:4d} SNe/AGN have {n:2d} hosts with at least one zwarn=0 DESI redshift' )\n",
    "\n",
    "# Make a version omitting the QSOs\n",
    "print()\n",
    "justsne = mhd.haszdf[ mhd.haszdf['program'].apply( lambda x: 'QSO' not in x ) ]\n",
    "hostcounts = justsne.reset_index().groupby(\"snname\")[\"snhostnum\"].count().rename(\"n\")\n",
    "print( f'{len(hostcounts)} different SNe have at least one DESI zwarn=0 redshift' )\n",
    "\n",
    "print()\n",
    "hostcounts = hostcounts.groupby(hostcounts).count()\n",
    "for n, counts in hostcounts.iteritems():\n",
    "    print( f'{counts:4d} SNe have {n:2d} hosts with at least one zwarn=0 DESI redshift' )"
   ]
  },
  {
   "cell_type": "code",
   "execution_count": 4,
   "id": "028d80f7-3396-427e-8669-e9727642b763",
   "metadata": {},
   "outputs": [
    {
     "data": {
      "image/png": "[encoded data removed]",
      "text/plain": [
       "<Figure size 864x432 with 1 Axes>"
      ]
     },
     "metadata": {
      "needs_background": "light"
     },
     "output_type": "display_data"
    }
   ],
   "source": [
    "# Make a histogram of *independent* supernova zs.  I'm just going to take the first measurement\n",
    "#  for each supernova... which may well not be the right one!\n",
    "\n",
    "subframe = justsne.groupby( 'snname' ).agg('first')\n",
    "\n",
    "# Let's make a histogram of those zs\n",
    "fig = pyplot.figure( figsize=(12,6), tight_layout=True )\n",
    "ax = fig.add_subplot(1, 1, 1)\n",
    "ax.hist( subframe['z'], range=(0,1), bins=20)\n",
    "ax.set_xlabel('z', fontsize=18)\n",
    "ax.set_ylabel('N', fontsize=18)\n",
    "ax.set_title( 'MostHosts SNe DESI redshifts', fontsize=18 )\n",
    "#ax.set_yscale('log')\n",
    "ax.tick_params( axis='both', labelsize=16 )\n",
    "# fig.tight_layout()\n",
    "fig.show()\n",
    "fig.savefig( 'mosthostsz.svg' )\n"
   ]
  }
 ],
 "metadata": {
  "kernelspec": {
   "display_name": "Python 3",
   "language": "python",
   "name": "python3"
  },
  "language_info": {
   "codemirror_mode": {
    "name": "ipython",
    "version": 3
   },
   "file_extension": ".py",
   "mimetype": "text/x-python",
   "name": "python",
   "nbconvert_exporter": "python",
   "pygments_lexer": "ipython3",
   "version": "3.7.4"
  }
 },
 "nbformat": 4,
 "nbformat_minor": 5
}
