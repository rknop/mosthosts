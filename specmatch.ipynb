{
 "cells": [
  {
   "cell_type": "code",
   "execution_count": 1,
   "id": "36b6a0ad-15d8-44d6-8708-a0fc9750fe16",
   "metadata": {
    "tags": []
   },
   "outputs": [],
   "source": [
    "%matplotlib inline\n",
    "import sys\n",
    "import math\n",
    "import psycopg2\n",
    "import psycopg2.extras\n",
    "import numpy as np\n",
    "import pandas\n",
    "from matplotlib import pyplot\n",
    "from astropy import units\n",
    "from astropy.coordinates import SkyCoord"
   ]
  },
  {
   "cell_type": "code",
   "execution_count": 2,
   "id": "fe2ce019-1c98-4857-b355-8709541721ab",
   "metadata": {},
   "outputs": [],
   "source": [
    "dbhost = \"decatdb.lbl.gov\"\n",
    "dbname = \"desi\"\n",
    "dbuser = \"desi\"\n",
    "dbpasswd = \"5kFibers!\""
   ]
  },
  {
   "cell_type": "code",
   "execution_count": 52,
   "id": "814742a2-ae64-4f2a-a7b6-6a24c64cb4ea",
   "metadata": {},
   "outputs": [],
   "source": [
    "dbconn = psycopg2.connect( f\"dbname='{dbname}' host='{dbhost}' user='{dbuser}' password='{dbpasswd}'\",\n",
    "                         cursor_factory=psycopg2.extras.RealDictCursor )"
   ]
  },
  {
   "cell_type": "markdown",
   "id": "4ee1cbdc-949f-4aed-8270-940945cb04be",
   "metadata": {},
   "source": [
    "There are a few tables that are relevant here.  The table `mosthosts.mosthosts` table has all the information from Maayane's CSV file.  Columns include:\n",
    "- `ra` (degrees)\n",
    "- `dec` (degrees)\n",
    "- `snname` (some sort of primary name for the supernova)\n",
    "- `hemisphere` (north or south)\n",
    "- `sn_ra` (RA of the supernova this is a possible host for)\n",
    "- `sn_dec` (dec of the supernova this is a possible host for)\n",
    "- `sn_z` (redshift (determined how?) of supernova)\n",
    "- `program` (some indicator of where this supernova came from; multiple things are /-separated)\n",
    "- `tns_name` (not sure what tns is)\n",
    "- `iau_name` (IAU name if the SN has one)\n",
    "- `ptfiptf_name` (probably something from PTF)"
   ]
  },
  {
   "cell_type": "code",
   "execution_count": 53,
   "id": "78178e2f-f158-46a2-a65e-82a9a47ef8c8",
   "metadata": {
    "jupyter": {
     "source_hidden": true
    },
    "tags": []
   },
   "outputs": [
    {
     "name": "stdout",
     "output_type": "stream",
     "text": [
      "There are 20174 entries in the mosthosts table.\n",
      "There are 14958 distinct supernovae in the mosthosts table.\n"
     ]
    }
   ],
   "source": [
    "# Aside: statistics\n",
    "# Count number of supernovae and number of distinct supernovae in the table\n",
    "q = \"SELECT COUNT(snname) AS num FROM mosthosts.mosthosts\"\n",
    "cursor = dbconn.cursor()\n",
    "cursor.execute( q )\n",
    "row = cursor.fetchone()\n",
    "print( f'There are {row[\"num\"]} entries in the mosthosts table.' )\n",
    "\n",
    "q = \"SELECT COUNT(DISTINCT snname) AS num FROM mosthosts.mosthosts\"\n",
    "cursor.execute( q )\n",
    "row = cursor.fetchone()\n",
    "print( f'There are {row[\"num\"]} distinct supernovae in the mosthosts table.' )"
   ]
  },
  {
   "cell_type": "code",
   "execution_count": 54,
   "id": "9f28b461-7436-4340-aab8-ac29f6522f19",
   "metadata": {
    "jupyter": {
     "source_hidden": true
    },
    "tags": []
   },
   "outputs": [
    {
     "name": "stdout",
     "output_type": "stream",
     "text": [
      "Histogram of sn_z in mosthosts\n"
     ]
    },
    {
     "data": {
      "image/png": "[encoded data removed]",
      "text/plain": [
       "<Figure size 432x288 with 1 Axes>"
      ]
     },
     "metadata": {
      "needs_background": "light"
     },
     "output_type": "display_data"
    }
   ],
   "source": [
    "# Make a histogram of redshifts\n",
    "q = \"SELECT sn_z FROM mosthosts.mosthosts\"\n",
    "cursor.execute( q )\n",
    "rows = cursor.fetchall()\n",
    "zvals = np.array( [ row[\"sn_z\"] for row in rows ] )\n",
    "# fig,ax = pyplot.subplots()\n",
    "pyplot.hist( zvals, range=(0,1), bins=20 )\n",
    "print( \"Histogram of sn_z in mosthosts\" )"
   ]
  },
  {
   "cell_type": "code",
   "execution_count": 59,
   "id": "8a00385f-9258-4db1-82a6-9125c1c31f5b",
   "metadata": {
    "tags": []
   },
   "outputs": [],
   "source": [
    "# Read the mostshosts table into variable mostshosts\n",
    "cursor = dbconn.cursor()\n",
    "q = \"SELECT ra,dec,snname,sn_ra,sn_dec,sn_z,program,tns_name,iau_name,ptfiptf_name FROM mosthosts.mosthosts\"\n",
    "cursor.execute( q )\n",
    "mosthosts = pandas.DataFrame( cursor.fetchall() )\n",
    "\n",
    "# Because the same supernova shows up more than once sometimes (multiple possible hosts), let's\n",
    "#   add a column that indexes the hosts for that one supernova, and then rearrange the table\n",
    "\n",
    "mosthosts.insert( loc=0, column='snhostnum', value=mosthosts.groupby( 'snname' ).cumcount() )\n",
    "mosthosts = mosthosts.set_index( ['snname', 'snhostnum' ] )\n",
    "mosthosts = mosthosts.sort_index()"
   ]
  },
  {
   "cell_type": "code",
   "execution_count": 61,
   "id": "a2bb9189-80ef-4440-962a-b721411ca243",
   "metadata": {},
   "outputs": [
    {
     "name": "stderr",
     "output_type": "stream",
     "text": [
      "Did 0 of 20174; 0 have at least 1 match\n",
      "Did 1000 of 20174; 95 have at least 1 match\n",
      "Did 2000 of 20174; 210 have at least 1 match\n",
      "Did 3000 of 20174; 306 have at least 1 match\n",
      "Did 4000 of 20174; 510 have at least 1 match\n",
      "Did 5000 of 20174; 641 have at least 1 match\n",
      "Did 6000 of 20174; 781 have at least 1 match\n",
      "Did 7000 of 20174; 840 have at least 1 match\n",
      "Did 8000 of 20174; 898 have at least 1 match\n",
      "Did 9000 of 20174; 962 have at least 1 match\n",
      "Did 10000 of 20174; 1045 have at least 1 match\n",
      "Did 11000 of 20174; 1111 have at least 1 match\n",
      "Did 12000 of 20174; 1160 have at least 1 match\n",
      "Did 13000 of 20174; 1200 have at least 1 match\n",
      "Did 14000 of 20174; 1250 have at least 1 match\n",
      "Did 15000 of 20174; 1317 have at least 1 match\n",
      "Did 16000 of 20174; 1391 have at least 1 match\n",
      "Did 17000 of 20174; 1474 have at least 1 match\n",
      "Did 18000 of 20174; 1527 have at least 1 match\n",
      "Did 19000 of 20174; 1607 have at least 1 match\n",
      "Did 20000 of 20174; 1719 have at least 1 match\n"
     ]
    },
    {
     "name": "stdout",
     "output_type": "stream",
     "text": [
      "18414 have  0 matches\n",
      " 1334 have  1 matches\n",
      "  257 have  2 matches\n",
      "   92 have  3 matches\n",
      "   26 have  4 matches\n",
      "   22 have  5 matches\n",
      "   16 have  6 matches\n",
      "    9 have  7 matches\n",
      "    0 have  8 matches\n",
      "    2 have  9 matches\n",
      "    2 have 10+ matches\n",
      "18470 have  0 matches with zwarn=0\n",
      " 1306 have  1 matches with zwarn=0\n",
      "  243 have  2 matches with zwarn=0\n",
      "   82 have  3 matches with zwarn=0\n",
      "   24 have  4 matches with zwarn=0\n",
      "   23 have  5 matches with zwarn=0\n",
      "   13 have  6 matches with zwarn=0\n",
      "    9 have  7 matches with zwarn=0\n",
      "    0 have  8 matches with zwarn=0\n",
      "    2 have  9 matches with zwarn=0\n",
      "    2 have 10+ matches with zwarn=0\n",
      "1760 mosthosts entries match to one or more DESI observation ra/dec; 1704 with at least one zwarn=0\n"
     ]
    }
   ],
   "source": [
    "# It's possible that some of the mosthosts targets were observed with DESI targetids\n",
    "#  other than what shows up in the secondary table.  So, just search the daily table directly for ra/dec\n",
    "cursor = dbconn.cursor()\n",
    "nhist = np.zeros( 11, dtype=int )\n",
    "nhistnowarn = np.zeros( 11, dtype=int )\n",
    "\n",
    "fields = [ 'targetid', 'z', 'zerr', 'zwarn', 'spectype', 'subtype', 'deltachi2' ]\n",
    "newfields = {}\n",
    "for field in fields:\n",
    "    newfields[ f'zpix_{field}' ] = []\n",
    "    newfields[ f'zpix_nowarn_{field}' ] = []\n",
    "\n",
    "for i in range(len(mosthosts)):\n",
    "    row = mosthosts.iloc[i]\n",
    "    if (i%1000 == 0):\n",
    "        sys.stderr.write( f'Did {i} of {len(mosthosts)}; {i-nhist[0]:d} have at least 1 match\\n' )\n",
    "    q = ( \"SELECT f.targetid,z.z,z.zerr,z.zwarn,z.spectype,z.subtype,z.deltachi2 FROM public.zbest_daily z \"\n",
    "          \"INNER JOIN public.fibermap_daily f ON (f.targetid,f.tileid,f.night)=(z.targetid,z.tile,z.yyyymmdd) \"\n",
    "          \"WHERE q3c_radial_query(f.fiber_ra,f.fiber_dec,%s,%s,1./3600)\" )\n",
    "    cursor.execute( q, ( row['ra'], row['dec'] ) )\n",
    "    matches = cursor.fetchall()\n",
    "    n = len(matches)\n",
    "    for field in fields:\n",
    "        newfields[f'zpix_{field}'].append( [ match[field] for match in matches ] )\n",
    "        newfields[f'zpix_nowarn_{field}'].append( [ match[field] for match in matches if match['zwarn']==0 ] )\n",
    "    nnowarn = len(newfields['zpix_nowarn_targetid'][-1])\n",
    "    if n >= 10:\n",
    "        nhist[10] += 1\n",
    "    else:\n",
    "        nhist[n] += 1\n",
    "    if nnowarn >= 10:\n",
    "        nhistnowarn[10] += 1\n",
    "    else:\n",
    "        nhistnowarn[nnowarn] += 1\n",
    "        \n",
    "for field in fields:\n",
    "    mosthosts[ f'zpix_{field}' ] = newfields[ f'zpix_{field}' ]\n",
    "    mosthosts[ f'zpix_nowarn_{field}' ] = newfields[ f'zpix_nowarn_{field}' ]\n",
    "        \n",
    "sys.stderr.flush()\n",
    "for i,val in enumerate(nhist):\n",
    "    if i == 10:\n",
    "        print( f'{val:5d} have {i:2d}+ matches' )\n",
    "    else:\n",
    "        print( f'{val:5d} have {i:2d} matches' )\n",
    "for i,val in enumerate(nhistnowarn):\n",
    "    if i == 10:\n",
    "        print( f'{val:5d} have {i:2d}+ matches with zwarn=0' )\n",
    "    else:\n",
    "        print( f'{val:5d} have {i:2d} matches with zwarn=0' )\n",
    "totobs = 0\n",
    "totnowarn = 0\n",
    "for num,nowarnnum in zip(nhist[1:],nhistnowarn[1:]):\n",
    "    totobs += num\n",
    "    totnowarn += nowarnnum\n",
    "print( f'{totobs} mosthosts entries match to one or more DESI observation ra/dec; {totnowarn} with at least one zwarn=0' )"
   ]
  },
  {
   "cell_type": "code",
   "execution_count": 13,
   "id": "91c0c770-85c8-4030-afd9-2efc5ae93325",
   "metadata": {},
   "outputs": [],
   "source": [
    "cursor.close()\n",
    "dbconn.close()"
   ]
  },
  {
   "cell_type": "markdown",
   "id": "627dffda-1494-4691-b5f1-bda5153e279a",
   "metadata": {},
   "source": [
    "# Look here\n",
    "## The mosthosts variable is a useful Pandas DataFrame\n",
    "\n",
    "Each row is indexed by `snname` and `snhostnum`.  The second just counts the hosts that have the same snname.  For SNe with a single host, this will just be 0.\n",
    "\n",
    "The dataframe has the following columns\n",
    "\n",
    "* ra,dec,snname,sn_ra,sn_dec,sn_z,program,tns_name,iau_name,ptfiptf_name from the original mosthosts table\n",
    "* zpix_targetid, zpix_z, zpix_zerr, zpix_zwarn, zpix_spectype, zpix_subtype, zpix_deltachi2 : each is a list of things matched to the daily tables\n",
    "* zpix_nowarn_* : all the above fields, but only with zpix_zwarn = 0"
   ]
  },
  {
   "cell_type": "code",
   "execution_count": 129,
   "id": "a2b7f233-8e2f-458c-aff6-5631da4c0801",
   "metadata": {},
   "outputs": [
    {
     "name": "stdout",
     "output_type": "stream",
     "text": [
      "Of the 1645 SNe/QSOs that have at least one DESI observation:\n",
      " 1593 SNe/QSOs have 1 hosts observed by DESI.\n",
      "   46 SNe/QSOs have 2 hosts observed by DESI.\n",
      "    5 SNe/QSOs have 3 hosts observed by DESI.\n",
      "    1 SNe/QSOs have 4 hosts observed by DESI.\n",
      "Only counts zwarn=0 observations.\n"
     ]
    }
   ],
   "source": [
    "# Let's extract a subset of these supernovae that have at least one\n",
    "# redshift measurement\n",
    "# There are so many combinations.  So, for now, I'm going to restrict\n",
    "# myself only to zwarn=0 observations.  Also, for now, I'm going to\n",
    "# ignore the secondary table, and look directly at the everest ra/dec\n",
    "# match.  (Sometime I should verify that all secondary targetids also\n",
    "# show up in the everest match.)\n",
    "\n",
    "hostswithz = mosthosts[ mosthosts['zpix_nowarn_targetid'].map(len) > 0 ]\n",
    "nsne = len( hostswithz.groupby( 'snname' ) )\n",
    "print( f'Of the {nsne} SNe/QSOs that have at least one DESI observation:' )\n",
    "\n",
    "hostcountspersne = hostswithz.groupby( 'snname' ).agg('count')['ra'].to_frame('nhosts')\n",
    "# I haven't fully wrapped my head around Pandas, but I think we have to\n",
    "#  have a column we're not grouping on to count\n",
    "hostcountspersne['it'] = 0\n",
    "hostcounts = hostcountspersne.groupby( 'nhosts' ).agg('count')['it'].to_frame('nsne')\n",
    "\n",
    "for i, row in hostcounts.iterrows():\n",
    "    print( f'{row[\"nsne\"]:5d} SNe/QSOs have {i} hosts observed by DESI.' )\n",
    "print( f'Only counts zwarn=0 observations.' )"
   ]
  },
  {
   "cell_type": "code",
   "execution_count": 139,
   "id": "78f353df-ba0c-4a92-8397-e2706ed9a0d0",
   "metadata": {
    "tags": []
   },
   "outputs": [
    {
     "name": "stdout",
     "output_type": "stream",
     "text": [
      "File mosthosts_sne_z.csv written (I hope).\n"
     ]
    }
   ],
   "source": [
    "# Write out a CSV file with the redshift information for the hosts we have\n",
    "\n",
    "def combinez( row ):\n",
    "    if len(row['zpix_nowarn_z']) == 0:\n",
    "        return { 'z': -9999, 'dz': 0, 'zdisp': 0 }\n",
    "    hostzs = np.array( row['zpix_nowarn_z'] )\n",
    "    hostzerrs = np.array( row['zpix_nowarn_zerr'] )\n",
    "    z = ( hostzs / hostzerrs**2 ).sum() / ( 1. / hostzerrs**2 ).sum()\n",
    "    dz = 1. / math.sqrt( (1. / hostzerrs**2).sum() )\n",
    "    return { 'z': z, 'dz': dz, 'zdisp': hostzs.max()-hostzs.min() }\n",
    "\n",
    "hostzvals = hostswithz.apply( combinez, axis=1, result_type='expand' )\n",
    "hostzvals = hostzvals.merge( hostswithz,\n",
    "                             how='left', left_index=True, right_index=True )\n",
    "hostzvals.to_csv( 'mosthosts_sne_z.csv',\n",
    "                  columns=[ 'z', 'dz', 'zdisp', 'tns_name', 'iau_name', 'ptfiptf_name'] )\n",
    "\n",
    "print( 'File mosthosts_sne_z.csv written (I hope).' )\n"
   ]
  },
  {
   "cell_type": "code",
   "execution_count": 145,
   "id": "028d80f7-3396-427e-8669-e9727642b763",
   "metadata": {},
   "outputs": [
    {
     "name": "stdout",
     "output_type": "stream",
     "text": [
      "1645 different SNe/QSOs have redshifts\n"
     ]
    },
    {
     "data": {
      "image/png": "[encoded data removed]",
      "text/plain": [
       "<Figure size 864x432 with 1 Axes>"
      ]
     },
     "metadata": {
      "needs_background": "light"
     },
     "output_type": "display_data"
    }
   ],
   "source": [
    "# Make a histogram of *independent* supernova zs.  I'm just going to take the first measurement\n",
    "#  for each supernova... which may well not be the right one!\n",
    "\n",
    "subframe = hostzvals.groupby( 'snname' ).agg('first')\n",
    "print( f'{len(subframe)} different SNe/QSOs have redshifts' )\n",
    "\n",
    "# Let's make a histogram of those zs\n",
    "fig = pyplot.figure( figsize=(12,6), tight_layout=True )\n",
    "ax = fig.add_subplot(1, 1, 1)\n",
    "ax.hist( subframe['z'], range=(0,1), bins=20)\n",
    "ax.set_xlabel('z', fontsize=18)\n",
    "ax.set_ylabel('N', fontsize=18)\n",
    "ax.set_title( 'MostHosts SNe/QSO DESI redshifts', fontsize=18 )\n",
    "#ax.set_yscale('log')\n",
    "ax.tick_params( axis='both', labelsize=16 )\n",
    "# fig.tight_layout()\n",
    "fig.show()\n",
    "fig.savefig( 'mosthostsz.svg' )\n"
   ]
  },
  {
   "cell_type": "code",
   "execution_count": 146,
   "id": "7261b1b7-022c-4d77-9a89-ba62ad84369a",
   "metadata": {
    "tags": []
   },
   "outputs": [
    {
     "data": {
      "image/png": "[encoded data removed]",
      "text/plain": [
       "<Figure size 864x432 with 1 Axes>"
      ]
     },
     "metadata": {
      "needs_background": "light"
     },
     "output_type": "display_data"
    }
   ],
   "source": [
    "# Make another histogram omitting things that are in the \"Mat_QSO\" program\n",
    "\n",
    "subframe = hostzvals[ hostzvals['program'].map( lambda x : 'Mat_QSO' not in x ) ].groupby( 'snname' ).agg('first')\n",
    "\n",
    "fig = pyplot.figure( figsize=(12,6), tight_layout=True )\n",
    "ax = fig.add_subplot(1, 1, 1)\n",
    "ax.hist( subframe['z'], range=(0,1), bins=20)\n",
    "ax.set_xlabel('z', fontsize=18)\n",
    "ax.set_ylabel('N', fontsize=18)\n",
    "ax.set_title( 'MostHosts SNe DESI redshifts', fontsize=18 )\n",
    "#ax.set_yscale('log')\n",
    "ax.tick_params( axis='both', labelsize=16 )\n",
    "# fig.tight_layout()\n",
    "fig.show()\n",
    "\n",
    "fig.savefig('mosthostsz_SNe.svg')"
   ]
  }
 ],
 "metadata": {
  "kernelspec": {
   "display_name": "Python 3",
   "language": "python",
   "name": "python3"
  },
  "language_info": {
   "codemirror_mode": {
    "name": "ipython",
    "version": 3
   },
   "file_extension": ".py",
   "mimetype": "text/x-python",
   "name": "python",
   "nbconvert_exporter": "python",
   "pygments_lexer": "ipython3",
   "version": "3.7.4"
  }
 },
 "nbformat": 4,
 "nbformat_minor": 5
}
