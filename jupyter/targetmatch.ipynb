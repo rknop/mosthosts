{
 "cells": [
  {
   "cell_type": "code",
   "execution_count": 1,
   "id": "b16b7e34-a079-410c-b5d7-00c0d0d55d35",
   "metadata": {},
   "outputs": [],
   "source": [
    "%matplotlib inline\n",
    "import sys\n",
    "import os\n",
    "import pathlib\n",
    "import math\n",
    "import logging\n",
    "import psycopg2\n",
    "from psycopg2 import extras\n",
    "import numpy as np\n",
    "import pandas\n",
    "from matplotlib import pyplot"
   ]
  },
  {
   "cell_type": "code",
   "execution_count": 2,
   "id": "05373413-5773-4391-b7ae-ae5d1a3d2708",
   "metadata": {},
   "outputs": [],
   "source": [
    "_logger = logging.getLogger( __name__ )\n",
    "_logger.propagate = False\n",
    "_logout = logging.StreamHandler( sys.stderr )\n",
    "_logger.addHandler( _logout )\n",
    "_logout.setFormatter( logging.Formatter( f'[%(asctime)s - %(levelname)s] - %(message)s' ) )\n",
    "_logger.setLevel( logging.INFO )"
   ]
  },
  {
   "cell_type": "code",
   "execution_count": 3,
   "id": "b9e5fc2c-c7ae-4dc8-b8c3-d67f14b47fb4",
   "metadata": {},
   "outputs": [],
   "source": [
    "with open( pathlib.Path( os.getenv(\"HOME\") ) / \"secrets/decatdb_desi_desi\" ) as ifp:\n",
    "    dbuser, dbpasswd = ifp.readline().strip().split()\n",
    "db = psycopg2.connect( dbname='desidb', host='decatdb.lbl.gov', user=dbuser, password=dbpasswd,\n",
    "                      cursor_factory=psycopg2.extras.RealDictCursor )"
   ]
  },
  {
   "cell_type": "code",
   "execution_count": 6,
   "id": "0dbbff3e-1dca-4a60-9a41-b009674973c8",
   "metadata": {},
   "outputs": [
    {
     "name": "stderr",
     "output_type": "stream",
     "text": [
      "[2024-03-04 10:12:02,008 - INFO] - Matching to maintargets\n"
     ]
    },
    {
     "ename": "UndefinedColumn",
     "evalue": "column \"snname\" does not exist\nLINE 1: SELECT snname,index,sn_z,COALESCE(targetid,-1) AS targetid,C...\n               ^\n",
     "output_type": "error",
     "traceback": [
      "\u001b[0;31m---------------------------------------------------------------------------\u001b[0m",
      "\u001b[0;31mUndefinedColumn\u001b[0m                           Traceback (most recent call last)",
      "Cell \u001b[0;32mIn[6], line 12\u001b[0m\n\u001b[1;32m     10\u001b[0m     cursor\u001b[38;5;241m.\u001b[39mexecute( q )\n\u001b[1;32m     11\u001b[0m     extracolumns \u001b[38;5;241m=\u001b[39m \u001b[38;5;124m\"\u001b[39m\u001b[38;5;124m,catalog\u001b[39m\u001b[38;5;124m\"\u001b[39m \u001b[38;5;28;01mif\u001b[39;00m table\u001b[38;5;241m==\u001b[39m\u001b[38;5;124m\"\u001b[39m\u001b[38;5;124msecondarytargets\u001b[39m\u001b[38;5;124m\"\u001b[39m \u001b[38;5;28;01melse\u001b[39;00m \u001b[38;5;124m\"\u001b[39m\u001b[38;5;124m,COALESCE(bgs_target,-1) AS bgs_target,COALESCE(mws_target,-1) AS mws_target,survey\u001b[39m\u001b[38;5;124m\"\u001b[39m\n\u001b[0;32m---> 12\u001b[0m     \u001b[43mcursor\u001b[49m\u001b[38;5;241;43m.\u001b[39;49m\u001b[43mexecute\u001b[49m\u001b[43m(\u001b[49m\u001b[43m \u001b[49m\u001b[38;5;124;43mf\u001b[39;49m\u001b[38;5;124;43m\"\u001b[39;49m\u001b[38;5;124;43mSELECT snname,index,sn_z,COALESCE(targetid,-1) AS targetid,COALESCE(desi_target,-1) AS desi_target \u001b[39;49m\u001b[38;5;124;43m\"\u001b[39;49m\n\u001b[1;32m     13\u001b[0m \u001b[43m                    \u001b[49m\u001b[38;5;124;43mf\u001b[39;49m\u001b[38;5;124;43m\"\u001b[39;49m\u001b[38;5;132;43;01m{\u001b[39;49;00m\u001b[43mextracolumns\u001b[49m\u001b[38;5;132;43;01m}\u001b[39;49;00m\u001b[38;5;124;43m FROM targetmatch\u001b[39;49m\u001b[38;5;124;43m\"\u001b[39;49m\u001b[43m \u001b[49m\u001b[43m)\u001b[49m\n\u001b[1;32m     14\u001b[0m     targs[table] \u001b[38;5;241m=\u001b[39m pandas\u001b[38;5;241m.\u001b[39mDataFrame( cursor\u001b[38;5;241m.\u001b[39mfetchall() )\n\u001b[1;32m     16\u001b[0m _logger\u001b[38;5;241m.\u001b[39minfo( \u001b[38;5;124m\"\u001b[39m\u001b[38;5;124mDone.\u001b[39m\u001b[38;5;124m\"\u001b[39m )\n",
      "File \u001b[0;32m/global/common/software/nersc/pe/conda-envs/24.1.0/python-3.11/nersc-python/lib/python3.11/site-packages/psycopg2/extras.py:236\u001b[0m, in \u001b[0;36mRealDictCursor.execute\u001b[0;34m(self, query, vars)\u001b[0m\n\u001b[1;32m    234\u001b[0m \u001b[38;5;28mself\u001b[39m\u001b[38;5;241m.\u001b[39mcolumn_mapping \u001b[38;5;241m=\u001b[39m []\n\u001b[1;32m    235\u001b[0m \u001b[38;5;28mself\u001b[39m\u001b[38;5;241m.\u001b[39m_query_executed \u001b[38;5;241m=\u001b[39m \u001b[38;5;28;01mTrue\u001b[39;00m\n\u001b[0;32m--> 236\u001b[0m \u001b[38;5;28;01mreturn\u001b[39;00m \u001b[38;5;28;43msuper\u001b[39;49m\u001b[43m(\u001b[49m\u001b[43m)\u001b[49m\u001b[38;5;241;43m.\u001b[39;49m\u001b[43mexecute\u001b[49m\u001b[43m(\u001b[49m\u001b[43mquery\u001b[49m\u001b[43m,\u001b[49m\u001b[43m \u001b[49m\u001b[38;5;28;43mvars\u001b[39;49m\u001b[43m)\u001b[49m\n",
      "\u001b[0;31mUndefinedColumn\u001b[0m: column \"snname\" does not exist\nLINE 1: SELECT snname,index,sn_z,COALESCE(targetid,-1) AS targetid,C...\n               ^\n"
     ]
    }
   ],
   "source": [
    "targs = {}\n",
    "for table in [ \"maintargets\", \"backuptargets\", \"secondarytargets\", \"sv1targets\", \"sv2targets\", \"sv3targets\" ]:\n",
    "    _logger.info( f\"Matching to {table}\" )\n",
    "    extracolumns = \",t.catalog\" if table==\"secondarytargets\" else \",t.bgs_target,t.mws_target,t.survey\"\n",
    "    db.rollback()\n",
    "    cursor = db.cursor()\n",
    "    q = ( f\"SELECT mh.sn_name_sp, mh.hostnum, mh.sn_z, t.targetid, t.desi_target {extracolumns} \"\n",
    "          f\"INTO TEMP TABLE targetmatch FROM static.mosthosts mh \"\n",
    "          f\"LEFT JOIN general.{table} t ON q3c_join( mh.ra, mh.dec, t.ra, t.dec, 0.5/3600. )\" )\n",
    "    cursor.execute( q )\n",
    "    extracolumns = \",catalog\" if table==\"secondarytargets\" else \",COALESCE(bgs_target,-1) AS bgs_target,COALESCE(mws_target,-1) AS mws_target,survey\"\n",
    "    cursor.execute( f\"SELECT snname,index,sn_z,COALESCE(targetid,-1) AS targetid,COALESCE(desi_target,-1) AS desi_target \"\n",
    "                    f\"{extracolumns} FROM targetmatch\" )\n",
    "    targs[table] = pandas.DataFrame( cursor.fetchall() )\n",
    "\n",
    "_logger.info( \"Done.\" )\n",
    "cursor.close()\n",
    "db.rollback()"
   ]
  },
  {
   "cell_type": "code",
   "execution_count": 6,
   "id": "d734b12a-1a55-4252-8df5-7af8d0d4ada5",
   "metadata": {},
   "outputs": [
    {
     "ename": "KeyError",
     "evalue": "'maintargets'",
     "output_type": "error",
     "traceback": [
      "\u001b[0;31m---------------------------------------------------------------------------\u001b[0m",
      "\u001b[0;31mKeyError\u001b[0m                                  Traceback (most recent call last)",
      "Cell \u001b[0;32mIn[6], line 1\u001b[0m\n\u001b[0;32m----> 1\u001b[0m \u001b[43mtargs\u001b[49m\u001b[43m[\u001b[49m\u001b[38;5;124;43m'\u001b[39;49m\u001b[38;5;124;43mmaintargets\u001b[39;49m\u001b[38;5;124;43m'\u001b[39;49m\u001b[43m]\u001b[49m\n",
      "\u001b[0;31mKeyError\u001b[0m: 'maintargets'"
     ]
    }
   ],
   "source": [
    "targs['maintargets']"
   ]
  },
  {
   "cell_type": "code",
   "execution_count": 6,
   "id": "a6a59514-d06a-48bf-a12e-af2a637b6223",
   "metadata": {},
   "outputs": [
    {
     "data": {
      "text/plain": [
       "8807"
      ]
     },
     "execution_count": 6,
     "metadata": {},
     "output_type": "execute_result"
    }
   ],
   "source": [
    "( targs['maintargets']['targetid'] < 0 ).sum()"
   ]
  },
  {
   "cell_type": "code",
   "execution_count": 7,
   "id": "25b276d8-e8ca-4535-ab9f-b290a28efbfa",
   "metadata": {},
   "outputs": [
    {
     "data": {
      "text/plain": [
       "8747"
      ]
     },
     "execution_count": 7,
     "metadata": {},
     "output_type": "execute_result"
    }
   ],
   "source": [
    "( targs['sv3targets']['targetid'] < 0 ).sum()"
   ]
  },
  {
   "cell_type": "code",
   "execution_count": 8,
   "id": "d4233c0a-626c-4ade-b4f6-8c11641619c1",
   "metadata": {},
   "outputs": [
    {
     "data": {
      "text/plain": [
       "20174"
      ]
     },
     "execution_count": 8,
     "metadata": {},
     "output_type": "execute_result"
    }
   ],
   "source": [
    "( targs['secondarytargets']['targetid'] <0 ).sum()"
   ]
  },
  {
   "cell_type": "code",
   "execution_count": 9,
   "id": "32b946c8-7552-4ac8-8dee-129532840d53",
   "metadata": {},
   "outputs": [
    {
     "data": {
      "text/plain": [
       "20174"
      ]
     },
     "execution_count": 9,
     "metadata": {},
     "output_type": "execute_result"
    }
   ],
   "source": [
    "targs['secondarytargets']['catalog'].isna().sum()"
   ]
  },
  {
   "cell_type": "code",
   "execution_count": 10,
   "id": "83478f34-d41d-46dd-b765-505733124ec8",
   "metadata": {},
   "outputs": [
    {
     "data": {
      "text/html": [
       "<div>\n",
       "<style scoped>\n",
       "    .dataframe tbody tr th:only-of-type {\n",
       "        vertical-align: middle;\n",
       "    }\n",
       "\n",
       "    .dataframe tbody tr th {\n",
       "        vertical-align: top;\n",
       "    }\n",
       "\n",
       "    .dataframe thead th {\n",
       "        text-align: right;\n",
       "    }\n",
       "</style>\n",
       "<table border=\"1\" class=\"dataframe\">\n",
       "  <thead>\n",
       "    <tr style=\"text-align: right;\">\n",
       "      <th></th>\n",
       "      <th>snname</th>\n",
       "      <th>index</th>\n",
       "      <th>sn_z</th>\n",
       "      <th>targetid</th>\n",
       "      <th>desi_target</th>\n",
       "      <th>catalog</th>\n",
       "    </tr>\n",
       "  </thead>\n",
       "  <tbody>\n",
       "    <tr>\n",
       "      <th>0</th>\n",
       "      <td>13ut</td>\n",
       "      <td>1</td>\n",
       "      <td>0.004563</td>\n",
       "      <td>-1</td>\n",
       "      <td>-1</td>\n",
       "      <td>None</td>\n",
       "    </tr>\n",
       "    <tr>\n",
       "      <th>1</th>\n",
       "      <td>AGN_2000</td>\n",
       "      <td>1</td>\n",
       "      <td>0.242000</td>\n",
       "      <td>-1</td>\n",
       "      <td>-1</td>\n",
       "      <td>None</td>\n",
       "    </tr>\n",
       "    <tr>\n",
       "      <th>2</th>\n",
       "      <td>ZTF19acmbhvv</td>\n",
       "      <td>1</td>\n",
       "      <td>0.062406</td>\n",
       "      <td>-1</td>\n",
       "      <td>-1</td>\n",
       "      <td>None</td>\n",
       "    </tr>\n",
       "    <tr>\n",
       "      <th>3</th>\n",
       "      <td>ZTF19aclljyq</td>\n",
       "      <td>1</td>\n",
       "      <td>0.079000</td>\n",
       "      <td>-1</td>\n",
       "      <td>-1</td>\n",
       "      <td>None</td>\n",
       "    </tr>\n",
       "    <tr>\n",
       "      <th>4</th>\n",
       "      <td>ZTF19acllajw</td>\n",
       "      <td>1</td>\n",
       "      <td>0.042000</td>\n",
       "      <td>-1</td>\n",
       "      <td>-1</td>\n",
       "      <td>None</td>\n",
       "    </tr>\n",
       "    <tr>\n",
       "      <th>...</th>\n",
       "      <td>...</td>\n",
       "      <td>...</td>\n",
       "      <td>...</td>\n",
       "      <td>...</td>\n",
       "      <td>...</td>\n",
       "      <td>...</td>\n",
       "    </tr>\n",
       "    <tr>\n",
       "      <th>20169</th>\n",
       "      <td>ZTF19acujyzv</td>\n",
       "      <td>1</td>\n",
       "      <td>-9999.000000</td>\n",
       "      <td>-1</td>\n",
       "      <td>-1</td>\n",
       "      <td>None</td>\n",
       "    </tr>\n",
       "    <tr>\n",
       "      <th>20170</th>\n",
       "      <td>ZTF19acudmhc</td>\n",
       "      <td>1</td>\n",
       "      <td>-9999.000000</td>\n",
       "      <td>-1</td>\n",
       "      <td>-1</td>\n",
       "      <td>None</td>\n",
       "    </tr>\n",
       "    <tr>\n",
       "      <th>20171</th>\n",
       "      <td>ZTF19acudlxq</td>\n",
       "      <td>1</td>\n",
       "      <td>-9999.000000</td>\n",
       "      <td>-1</td>\n",
       "      <td>-1</td>\n",
       "      <td>None</td>\n",
       "    </tr>\n",
       "    <tr>\n",
       "      <th>20172</th>\n",
       "      <td>ZTF19actairt</td>\n",
       "      <td>3</td>\n",
       "      <td>-9999.000000</td>\n",
       "      <td>-1</td>\n",
       "      <td>-1</td>\n",
       "      <td>None</td>\n",
       "    </tr>\n",
       "    <tr>\n",
       "      <th>20173</th>\n",
       "      <td>ZTF18aasxahh</td>\n",
       "      <td>2</td>\n",
       "      <td>0.164000</td>\n",
       "      <td>-1</td>\n",
       "      <td>-1</td>\n",
       "      <td>None</td>\n",
       "    </tr>\n",
       "  </tbody>\n",
       "</table>\n",
       "<p>20174 rows × 6 columns</p>\n",
       "</div>"
      ],
      "text/plain": [
       "             snname  index         sn_z  targetid  desi_target catalog\n",
       "0              13ut      1     0.004563        -1           -1    None\n",
       "1          AGN_2000      1     0.242000        -1           -1    None\n",
       "2      ZTF19acmbhvv      1     0.062406        -1           -1    None\n",
       "3      ZTF19aclljyq      1     0.079000        -1           -1    None\n",
       "4      ZTF19acllajw      1     0.042000        -1           -1    None\n",
       "...             ...    ...          ...       ...          ...     ...\n",
       "20169  ZTF19acujyzv      1 -9999.000000        -1           -1    None\n",
       "20170  ZTF19acudmhc      1 -9999.000000        -1           -1    None\n",
       "20171  ZTF19acudlxq      1 -9999.000000        -1           -1    None\n",
       "20172  ZTF19actairt      3 -9999.000000        -1           -1    None\n",
       "20173  ZTF18aasxahh      2     0.164000        -1           -1    None\n",
       "\n",
       "[20174 rows x 6 columns]"
      ]
     },
     "execution_count": 10,
     "metadata": {},
     "output_type": "execute_result"
    }
   ],
   "source": [
    "targs['secondarytargets']"
   ]
  },
  {
   "cell_type": "code",
   "execution_count": null,
   "id": "393153be-9178-43de-a3a1-47a6dc001712",
   "metadata": {},
   "outputs": [],
   "source": []
  }
 ],
 "metadata": {
  "kernelspec": {
   "display_name": "NERSC Python",
   "language": "python",
   "name": "python3"
  },
  "language_info": {
   "codemirror_mode": {
    "name": "ipython",
    "version": 3
   },
   "file_extension": ".py",
   "mimetype": "text/x-python",
   "name": "python",
   "nbconvert_exporter": "python",
   "pygments_lexer": "ipython3",
   "version": "3.11.7"
  }
 },
 "nbformat": 4,
 "nbformat_minor": 5
}
