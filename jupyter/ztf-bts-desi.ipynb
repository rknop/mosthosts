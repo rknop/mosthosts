{
 "cells": [
  {
   "cell_type": "code",
   "execution_count": 1,
   "id": "5bf2a8ff-9d4a-481f-81c1-51daf2e0fd24",
   "metadata": {},
   "outputs": [],
   "source": [
    "%matplotlib inline\n",
    "import sys\n",
    "import os\n",
    "import pathlib\n",
    "import math\n",
    "import numpy as np\n",
    "import pandas\n",
    "import psycopg2\n",
    "import psycopg2.extras\n",
    "import matplotlib\n",
    "from matplotlib import pyplot\n",
    "from mosthosts_desi import MostHostsDesi"
   ]
  },
  {
   "cell_type": "code",
   "execution_count": 2,
   "id": "94531fc8-b049-4cbe-84b3-69e79837315d",
   "metadata": {},
   "outputs": [],
   "source": [
    "# Read the salt2 fits from the lightcurve database\n",
    "dbname = 'curveball'\n",
    "dbhost = 'decatdb.lbl.gov'\n",
    "dbport = 5432\n",
    "dbuser = 'curveball'\n",
    "try:\n",
    "    sfile = pathlib.Path( os.getenv(\"HOME\") )/ \"secrets\" / \"curveball_dbpasswd.txt\"\n",
    "    with open(sfile) as ifp:\n",
    "        dbpasswd = ifp.readline().strip()\n",
    "except Exception as e:\n",
    "    dbpasswd = input( \"database password: \")\n",
    "    dbpasswd = dbpasswd.strip()\n",
    "\n",
    "db = psycopg2.connect( host=dbhost, port=dbport, dbname=dbname, user=dbuser, password=dbpasswd,\n",
    "                       cursor_factory=psycopg2.extras.RealDictCursor )\n",
    "cursor = db.cursor()\n",
    "q = ( \"SELECT o.name,f.z,f.mbstar,f.dmbstar,f.x0,f.dx0,f.x1,f.dx1,f.c,f.dc,f.primary_fit \"\n",
    "      \"FROM salt2fit f \"\n",
    "      \"INNER JOIN object o ON o.id=f.object_id \"\n",
    "      \"WHERE f.donotuse=FALSE\" )\n",
    "cursor.execute(q)\n",
    "saltfits = pandas.DataFrame( cursor.fetchall() )\n",
    "\n",
    "# For those objects that have a primary fit marked, keep that fit.  Otherwise, randomly keep the first fit\n",
    "primaries = set( saltfits[ saltfits.primary_fit ].name.values )\n",
    "saltfits.drop( saltfits[ saltfits.name.isin(primaries) & (~saltfits.primary_fit) ].index, inplace=True )\n",
    "saltfits = saltfits.groupby( 'name' ).first().reset_index()"
   ]
  },
  {
   "cell_type": "code",
   "execution_count": 3,
   "id": "4ba91177-2191-4cbf-874c-8820cfb92393",
   "metadata": {},
   "outputs": [
    {
     "name": "stdout",
     "output_type": "stream",
     "text": [
      "3 bad values\n",
      "            name       z     mbstar   dmbstar\n",
      "1   ZTF18aajivpr  0.0515        inf -0.533639\n",
      "42  ZTF19abaukyt  0.0716        inf -0.096449\n",
      "79  ZTF20abeeyrs  0.0973  11.534117  1.159573\n",
      "\n",
      "5 extreme colors\n",
      "            name       z     mbstar         c\n",
      "0   ZTF18aaermez  0.0227  19.046319  1.067068\n",
      "21  ZTF19aaafica  0.0230  19.626083  1.111509\n",
      "28  ZTF19aaqtcmy  0.0638  21.193136  1.772883\n",
      "76  ZTF20aayjxdv  0.0619  18.055053 -1.643741\n",
      "84  ZTF20abixkhh  0.0446  20.386788  1.711217\n"
     ]
    }
   ],
   "source": [
    "# Look for some messes\n",
    "bad = saltfits[ ( saltfits.mbstar.values > 23) | ( saltfits.mbstar.values < 14 ) | ( ~np.isfinite( saltfits.mbstar.values ) ) ]\n",
    "print( f'{len(bad)} bad values\\n{bad[[\"name\",\"z\",\"mbstar\",\"dmbstar\"]]}\\n' )\n",
    "saltfits = saltfits[ saltfits.name.apply( lambda r: r not in bad.name.values ) ]\n",
    "\n",
    "# Throw out extreme colors\n",
    "colorful = saltfits[ ( saltfits.c < -1 ) | ( saltfits.c > 1 ) ]\n",
    "print( f'{len(colorful)} extreme colors\\n{colorful[ [\"name\",\"z\",\"mbstar\",\"c\"] ]}' )\n",
    "saltfits = saltfits[ saltfits.name.apply( lambda r: r not in colorful.name.values ) ]"
   ]
  },
  {
   "cell_type": "code",
   "execution_count": 4,
   "id": "af5ae0a3-0ecf-4f01-9b46-8a155cf6d848",
   "metadata": {},
   "outputs": [
    {
     "name": "stderr",
     "output_type": "stream",
     "text": [
      "[2022-06-21 11:33:18,044 - INFO] - Loading mosthosts table...\n",
      "[2022-06-21 11:33:19,133 - INFO] - ...mosthosts table loaded.\n",
      "[2022-06-21 11:33:19,154 - INFO] - Read dataframes from pkl files\n"
     ]
    }
   ],
   "source": [
    "# Read in the MostHosts DESI info\n",
    "subset = \"fuji\"\n",
    "mhd = MostHostsDesi( release=subset, force_regen=False )"
   ]
  },
  {
   "cell_type": "code",
   "execution_count": 8,
   "id": "79cae875-117b-4c52-ade3-0f480e7e5cc0",
   "metadata": {},
   "outputs": [
    {
     "data": {
      "text/plain": [
       "array([('09a', 1), ('09aa', 1), ('09ab', 1), ..., ('unknown-97', 2),\n",
       "       ('unknown-98', 1), ('unknown-99', 1)], dtype=object)"
      ]
     },
     "execution_count": 8,
     "metadata": {},
     "output_type": "execute_result"
    }
   ],
   "source": [
    "mhd.df.index.values"
   ]
  },
  {
   "cell_type": "code",
   "execution_count": 9,
   "id": "57b83afc-7c9a-4716-8a35-93d50794e4c6",
   "metadata": {},
   "outputs": [
    {
     "ename": "TypeError",
     "evalue": "'['ZTF18aanygjk' 'ZTF18aarwxum' 'ZTF18aaunfqq' 'ZTF18aaxdrjn'\n 'ZTF18aaydmkh' 'ZTF18aayjvve' 'ZTF18abcsgvj' 'ZTF18abfgygp'\n 'ZTF18abjvhec' 'ZTF18abjwahi' 'ZTF18ablongw' 'ZTF18ablqlzp'\n 'ZTF18abmjvpb' 'ZTF18abmkaps' 'ZTF18abmmdif' 'ZTF18abmxfrc'\n 'ZTF18abobkii' 'ZTF18aceyjco' 'ZTF18acqsztr' 'ZTF19aajwhbc'\n 'ZTF19aammewd' 'ZTF19aanmdsr' 'ZTF19aanmeyw' 'ZTF19aanuhox'\n 'ZTF19aanxgrz' 'ZTF19aarfnto' 'ZTF19aarprog' 'ZTF19aatgwhs'\n 'ZTF19aathcvn' 'ZTF19aauvjws' 'ZTF19aavmgtv' 'ZTF19aawhniz'\n 'ZTF19aawqckx' 'ZTF19aayslow' 'ZTF19aaziick' 'ZTF19aazlsfj'\n 'ZTF19aazxcvl' 'ZTF19abakdjd' 'ZTF19abbvzgr' 'ZTF19abetjcx'\n 'ZTF19abfdsbu' 'ZTF19abgppki' 'ZTF19abhzewi' 'ZTF19abitbcj'\n 'ZTF19abmzord' 'ZTF19abnmrqt' 'ZTF19abpbqor' 'ZTF19abqhikf'\n 'ZTF19abxdnhr' 'ZTF19abzkexb' 'ZTF19acfrntd' 'ZTF19acordoi'\n 'ZTF19acqehbt' 'ZTF20aaaxacu' 'ZTF20aafcjln' 'ZTF20aaghlkv'\n 'ZTF20aaideho' 'ZTF20aakodiq' 'ZTF20aammhli' 'ZTF20aammicx'\n 'ZTF20aamttni' 'ZTF20aansktb' 'ZTF20aappghn' 'ZTF20aatzwgk'\n 'ZTF20aauonld' 'ZTF20aaurhio' 'ZTF20aauuiri' 'ZTF20aauwhyi'\n 'ZTF20aavnnat' 'ZTF20aavrloz' 'ZTF20aaxicpu' 'ZTF20aazhzna'\n 'ZTF20abawntz' 'ZTF20abegate' 'ZTF20abfsemq' 'ZTF20abguygh'\n 'ZTF20abhmnom' 'ZTF20abpuijn' 'ZTF20abqefja' 'ZTF20abxgwjr'\n 'ZTF20abyfgri' 'ZTF20abyskia']' is an invalid key",
     "output_type": "error",
     "traceback": [
      "\u001b[0;31m---------------------------------------------------------------------------\u001b[0m",
      "\u001b[0;31mTypeError\u001b[0m                                 Traceback (most recent call last)",
      "\u001b[0;32m/tmp/ipykernel_32946/1815742564.py\u001b[0m in \u001b[0;36m<module>\u001b[0;34m\u001b[0m\n\u001b[1;32m      5\u001b[0m \u001b[0mdmbcors\u001b[0m \u001b[0;34m=\u001b[0m \u001b[0;34m[\u001b[0m\u001b[0;34m]\u001b[0m\u001b[0;34m\u001b[0m\u001b[0;34m\u001b[0m\u001b[0m\n\u001b[1;32m      6\u001b[0m \u001b[0;31m# overlap = mhd.df[ [ i in saltfits.name.values for i in mhd.df['snname'].values ] ]\u001b[0m\u001b[0;34m\u001b[0m\u001b[0;34m\u001b[0m\u001b[0m\n\u001b[0;32m----> 7\u001b[0;31m \u001b[0moverlap\u001b[0m \u001b[0;34m=\u001b[0m \u001b[0mmhd\u001b[0m\u001b[0;34m.\u001b[0m\u001b[0mdf\u001b[0m\u001b[0;34m.\u001b[0m\u001b[0mxs\u001b[0m\u001b[0;34m(\u001b[0m \u001b[0msaltfits\u001b[0m\u001b[0;34m.\u001b[0m\u001b[0mname\u001b[0m\u001b[0;34m.\u001b[0m\u001b[0mvalues\u001b[0m\u001b[0;34m,\u001b[0m \u001b[0mlevel\u001b[0m\u001b[0;34m=\u001b[0m\u001b[0;36m1\u001b[0m \u001b[0;34m)\u001b[0m\u001b[0;34m\u001b[0m\u001b[0;34m\u001b[0m\u001b[0m\n\u001b[0m\u001b[1;32m      8\u001b[0m \u001b[0;34m\u001b[0m\u001b[0m\n\u001b[1;32m      9\u001b[0m \u001b[0moverlap\u001b[0m\u001b[0;34m\u001b[0m\u001b[0;34m\u001b[0m\u001b[0m\n",
      "\u001b[0;32m/global/common/software/desi/cori/desiconda/20211217-2.0.0/conda/lib/python3.9/site-packages/pandas/core/generic.py\u001b[0m in \u001b[0;36mxs\u001b[0;34m(self, key, axis, level, drop_level)\u001b[0m\n\u001b[1;32m   3746\u001b[0m             \u001b[0;32mif\u001b[0m \u001b[0;32mnot\u001b[0m \u001b[0misinstance\u001b[0m\u001b[0;34m(\u001b[0m\u001b[0mlabels\u001b[0m\u001b[0;34m,\u001b[0m \u001b[0mMultiIndex\u001b[0m\u001b[0;34m)\u001b[0m\u001b[0;34m:\u001b[0m\u001b[0;34m\u001b[0m\u001b[0;34m\u001b[0m\u001b[0m\n\u001b[1;32m   3747\u001b[0m                 \u001b[0;32mraise\u001b[0m \u001b[0mTypeError\u001b[0m\u001b[0;34m(\u001b[0m\u001b[0;34m\"Index must be a MultiIndex\"\u001b[0m\u001b[0;34m)\u001b[0m\u001b[0;34m\u001b[0m\u001b[0;34m\u001b[0m\u001b[0m\n\u001b[0;32m-> 3748\u001b[0;31m             \u001b[0mloc\u001b[0m\u001b[0;34m,\u001b[0m \u001b[0mnew_ax\u001b[0m \u001b[0;34m=\u001b[0m \u001b[0mlabels\u001b[0m\u001b[0;34m.\u001b[0m\u001b[0mget_loc_level\u001b[0m\u001b[0;34m(\u001b[0m\u001b[0mkey\u001b[0m\u001b[0;34m,\u001b[0m \u001b[0mlevel\u001b[0m\u001b[0;34m=\u001b[0m\u001b[0mlevel\u001b[0m\u001b[0;34m,\u001b[0m \u001b[0mdrop_level\u001b[0m\u001b[0;34m=\u001b[0m\u001b[0mdrop_level\u001b[0m\u001b[0;34m)\u001b[0m\u001b[0;34m\u001b[0m\u001b[0;34m\u001b[0m\u001b[0m\n\u001b[0m\u001b[1;32m   3749\u001b[0m \u001b[0;34m\u001b[0m\u001b[0m\n\u001b[1;32m   3750\u001b[0m             \u001b[0;31m# create the tuple of the indexer\u001b[0m\u001b[0;34m\u001b[0m\u001b[0;34m\u001b[0m\u001b[0m\n",
      "\u001b[0;32m/global/common/software/desi/cori/desiconda/20211217-2.0.0/conda/lib/python3.9/site-packages/pandas/core/indexes/multi.py\u001b[0m in \u001b[0;36mget_loc_level\u001b[0;34m(self, key, level, drop_level)\u001b[0m\n\u001b[1;32m   3009\u001b[0m         \u001b[0;32melse\u001b[0m\u001b[0;34m:\u001b[0m\u001b[0;34m\u001b[0m\u001b[0;34m\u001b[0m\u001b[0m\n\u001b[1;32m   3010\u001b[0m             \u001b[0mlevel\u001b[0m \u001b[0;34m=\u001b[0m \u001b[0;34m[\u001b[0m\u001b[0mself\u001b[0m\u001b[0;34m.\u001b[0m\u001b[0m_get_level_number\u001b[0m\u001b[0;34m(\u001b[0m\u001b[0mlev\u001b[0m\u001b[0;34m)\u001b[0m \u001b[0;32mfor\u001b[0m \u001b[0mlev\u001b[0m \u001b[0;32min\u001b[0m \u001b[0mlevel\u001b[0m\u001b[0;34m]\u001b[0m\u001b[0;34m\u001b[0m\u001b[0;34m\u001b[0m\u001b[0m\n\u001b[0;32m-> 3011\u001b[0;31m         \u001b[0;32mreturn\u001b[0m \u001b[0mself\u001b[0m\u001b[0;34m.\u001b[0m\u001b[0m_get_loc_level\u001b[0m\u001b[0;34m(\u001b[0m\u001b[0mkey\u001b[0m\u001b[0;34m,\u001b[0m \u001b[0mlevel\u001b[0m\u001b[0;34m=\u001b[0m\u001b[0mlevel\u001b[0m\u001b[0;34m,\u001b[0m \u001b[0mdrop_level\u001b[0m\u001b[0;34m=\u001b[0m\u001b[0mdrop_level\u001b[0m\u001b[0;34m)\u001b[0m\u001b[0;34m\u001b[0m\u001b[0;34m\u001b[0m\u001b[0m\n\u001b[0m\u001b[1;32m   3012\u001b[0m \u001b[0;34m\u001b[0m\u001b[0m\n\u001b[1;32m   3013\u001b[0m     \u001b[0;32mdef\u001b[0m \u001b[0m_get_loc_level\u001b[0m\u001b[0;34m(\u001b[0m\u001b[0mself\u001b[0m\u001b[0;34m,\u001b[0m \u001b[0mkey\u001b[0m\u001b[0;34m,\u001b[0m \u001b[0mlevel\u001b[0m\u001b[0;34m:\u001b[0m \u001b[0mint\u001b[0m \u001b[0;34m|\u001b[0m \u001b[0mlist\u001b[0m\u001b[0;34m[\u001b[0m\u001b[0mint\u001b[0m\u001b[0;34m]\u001b[0m \u001b[0;34m=\u001b[0m \u001b[0;36m0\u001b[0m\u001b[0;34m,\u001b[0m \u001b[0mdrop_level\u001b[0m\u001b[0;34m:\u001b[0m \u001b[0mbool\u001b[0m \u001b[0;34m=\u001b[0m \u001b[0;32mTrue\u001b[0m\u001b[0;34m)\u001b[0m\u001b[0;34m:\u001b[0m\u001b[0;34m\u001b[0m\u001b[0;34m\u001b[0m\u001b[0m\n",
      "\u001b[0;32m/global/common/software/desi/cori/desiconda/20211217-2.0.0/conda/lib/python3.9/site-packages/pandas/core/indexes/multi.py\u001b[0m in \u001b[0;36m_get_loc_level\u001b[0;34m(self, key, level, drop_level)\u001b[0m\n\u001b[1;32m   3110\u001b[0m                 \u001b[0;32mreturn\u001b[0m \u001b[0mindexer\u001b[0m\u001b[0;34m,\u001b[0m \u001b[0mmaybe_mi_droplevels\u001b[0m\u001b[0;34m(\u001b[0m\u001b[0mindexer\u001b[0m\u001b[0;34m,\u001b[0m \u001b[0milevels\u001b[0m\u001b[0;34m,\u001b[0m \u001b[0mdrop_level\u001b[0m\u001b[0;34m)\u001b[0m\u001b[0;34m\u001b[0m\u001b[0;34m\u001b[0m\u001b[0m\n\u001b[1;32m   3111\u001b[0m         \u001b[0;32melse\u001b[0m\u001b[0;34m:\u001b[0m\u001b[0;34m\u001b[0m\u001b[0;34m\u001b[0m\u001b[0m\n\u001b[0;32m-> 3112\u001b[0;31m             \u001b[0mindexer\u001b[0m \u001b[0;34m=\u001b[0m \u001b[0mself\u001b[0m\u001b[0;34m.\u001b[0m\u001b[0m_get_level_indexer\u001b[0m\u001b[0;34m(\u001b[0m\u001b[0mkey\u001b[0m\u001b[0;34m,\u001b[0m \u001b[0mlevel\u001b[0m\u001b[0;34m=\u001b[0m\u001b[0mlevel\u001b[0m\u001b[0;34m)\u001b[0m\u001b[0;34m\u001b[0m\u001b[0;34m\u001b[0m\u001b[0m\n\u001b[0m\u001b[1;32m   3113\u001b[0m             \u001b[0;32mreturn\u001b[0m \u001b[0mindexer\u001b[0m\u001b[0;34m,\u001b[0m \u001b[0mmaybe_mi_droplevels\u001b[0m\u001b[0;34m(\u001b[0m\u001b[0mindexer\u001b[0m\u001b[0;34m,\u001b[0m \u001b[0;34m[\u001b[0m\u001b[0mlevel\u001b[0m\u001b[0;34m]\u001b[0m\u001b[0;34m,\u001b[0m \u001b[0mdrop_level\u001b[0m\u001b[0;34m)\u001b[0m\u001b[0;34m\u001b[0m\u001b[0;34m\u001b[0m\u001b[0m\n\u001b[1;32m   3114\u001b[0m \u001b[0;34m\u001b[0m\u001b[0m\n",
      "\u001b[0;32m/global/common/software/desi/cori/desiconda/20211217-2.0.0/conda/lib/python3.9/site-packages/pandas/core/indexes/multi.py\u001b[0m in \u001b[0;36m_get_level_indexer\u001b[0;34m(self, key, level, indexer)\u001b[0m\n\u001b[1;32m   3202\u001b[0m         \u001b[0;32melse\u001b[0m\u001b[0;34m:\u001b[0m\u001b[0;34m\u001b[0m\u001b[0;34m\u001b[0m\u001b[0m\n\u001b[1;32m   3203\u001b[0m \u001b[0;34m\u001b[0m\u001b[0m\n\u001b[0;32m-> 3204\u001b[0;31m             \u001b[0midx\u001b[0m \u001b[0;34m=\u001b[0m \u001b[0mself\u001b[0m\u001b[0;34m.\u001b[0m\u001b[0m_get_loc_single_level_index\u001b[0m\u001b[0;34m(\u001b[0m\u001b[0mlevel_index\u001b[0m\u001b[0;34m,\u001b[0m \u001b[0mkey\u001b[0m\u001b[0;34m)\u001b[0m\u001b[0;34m\u001b[0m\u001b[0;34m\u001b[0m\u001b[0m\n\u001b[0m\u001b[1;32m   3205\u001b[0m \u001b[0;34m\u001b[0m\u001b[0m\n\u001b[1;32m   3206\u001b[0m             \u001b[0;32mif\u001b[0m \u001b[0mlevel\u001b[0m \u001b[0;34m>\u001b[0m \u001b[0;36m0\u001b[0m \u001b[0;32mor\u001b[0m \u001b[0mself\u001b[0m\u001b[0;34m.\u001b[0m\u001b[0m_lexsort_depth\u001b[0m \u001b[0;34m==\u001b[0m \u001b[0;36m0\u001b[0m\u001b[0;34m:\u001b[0m\u001b[0;34m\u001b[0m\u001b[0;34m\u001b[0m\u001b[0m\n",
      "\u001b[0;32m/global/common/software/desi/cori/desiconda/20211217-2.0.0/conda/lib/python3.9/site-packages/pandas/core/indexes/multi.py\u001b[0m in \u001b[0;36m_get_loc_single_level_index\u001b[0;34m(self, level_index, key)\u001b[0m\n\u001b[1;32m   2853\u001b[0m             \u001b[0;32mreturn\u001b[0m \u001b[0;34m-\u001b[0m\u001b[0;36m1\u001b[0m\u001b[0;34m\u001b[0m\u001b[0;34m\u001b[0m\u001b[0m\n\u001b[1;32m   2854\u001b[0m         \u001b[0;32melse\u001b[0m\u001b[0;34m:\u001b[0m\u001b[0;34m\u001b[0m\u001b[0;34m\u001b[0m\u001b[0m\n\u001b[0;32m-> 2855\u001b[0;31m             \u001b[0;32mreturn\u001b[0m \u001b[0mlevel_index\u001b[0m\u001b[0;34m.\u001b[0m\u001b[0mget_loc\u001b[0m\u001b[0;34m(\u001b[0m\u001b[0mkey\u001b[0m\u001b[0;34m)\u001b[0m\u001b[0;34m\u001b[0m\u001b[0;34m\u001b[0m\u001b[0m\n\u001b[0m\u001b[1;32m   2856\u001b[0m \u001b[0;34m\u001b[0m\u001b[0m\n\u001b[1;32m   2857\u001b[0m     \u001b[0;32mdef\u001b[0m \u001b[0mget_loc\u001b[0m\u001b[0;34m(\u001b[0m\u001b[0mself\u001b[0m\u001b[0;34m,\u001b[0m \u001b[0mkey\u001b[0m\u001b[0;34m,\u001b[0m \u001b[0mmethod\u001b[0m\u001b[0;34m=\u001b[0m\u001b[0;32mNone\u001b[0m\u001b[0;34m)\u001b[0m\u001b[0;34m:\u001b[0m\u001b[0;34m\u001b[0m\u001b[0;34m\u001b[0m\u001b[0m\n",
      "\u001b[0;32m/global/common/software/desi/cori/desiconda/20211217-2.0.0/conda/lib/python3.9/site-packages/pandas/core/indexes/base.py\u001b[0m in \u001b[0;36mget_loc\u001b[0;34m(self, key, method, tolerance)\u001b[0m\n\u001b[1;32m   3359\u001b[0m             \u001b[0mcasted_key\u001b[0m \u001b[0;34m=\u001b[0m \u001b[0mself\u001b[0m\u001b[0;34m.\u001b[0m\u001b[0m_maybe_cast_indexer\u001b[0m\u001b[0;34m(\u001b[0m\u001b[0mkey\u001b[0m\u001b[0;34m)\u001b[0m\u001b[0;34m\u001b[0m\u001b[0;34m\u001b[0m\u001b[0m\n\u001b[1;32m   3360\u001b[0m             \u001b[0;32mtry\u001b[0m\u001b[0;34m:\u001b[0m\u001b[0;34m\u001b[0m\u001b[0;34m\u001b[0m\u001b[0m\n\u001b[0;32m-> 3361\u001b[0;31m                 \u001b[0;32mreturn\u001b[0m \u001b[0mself\u001b[0m\u001b[0;34m.\u001b[0m\u001b[0m_engine\u001b[0m\u001b[0;34m.\u001b[0m\u001b[0mget_loc\u001b[0m\u001b[0;34m(\u001b[0m\u001b[0mcasted_key\u001b[0m\u001b[0;34m)\u001b[0m\u001b[0;34m\u001b[0m\u001b[0;34m\u001b[0m\u001b[0m\n\u001b[0m\u001b[1;32m   3362\u001b[0m             \u001b[0;32mexcept\u001b[0m \u001b[0mKeyError\u001b[0m \u001b[0;32mas\u001b[0m \u001b[0merr\u001b[0m\u001b[0;34m:\u001b[0m\u001b[0;34m\u001b[0m\u001b[0;34m\u001b[0m\u001b[0m\n\u001b[1;32m   3363\u001b[0m                 \u001b[0;32mraise\u001b[0m \u001b[0mKeyError\u001b[0m\u001b[0;34m(\u001b[0m\u001b[0mkey\u001b[0m\u001b[0;34m)\u001b[0m \u001b[0;32mfrom\u001b[0m \u001b[0merr\u001b[0m\u001b[0;34m\u001b[0m\u001b[0;34m\u001b[0m\u001b[0m\n",
      "\u001b[0;32m/global/common/software/desi/cori/desiconda/20211217-2.0.0/conda/lib/python3.9/site-packages/pandas/_libs/index.pyx\u001b[0m in \u001b[0;36mpandas._libs.index.IndexEngine.get_loc\u001b[0;34m()\u001b[0m\n",
      "\u001b[0;32m/global/common/software/desi/cori/desiconda/20211217-2.0.0/conda/lib/python3.9/site-packages/pandas/_libs/index.pyx\u001b[0m in \u001b[0;36mpandas._libs.index.IndexEngine.get_loc\u001b[0;34m()\u001b[0m\n",
      "\u001b[0;31mTypeError\u001b[0m: '['ZTF18aanygjk' 'ZTF18aarwxum' 'ZTF18aaunfqq' 'ZTF18aaxdrjn'\n 'ZTF18aaydmkh' 'ZTF18aayjvve' 'ZTF18abcsgvj' 'ZTF18abfgygp'\n 'ZTF18abjvhec' 'ZTF18abjwahi' 'ZTF18ablongw' 'ZTF18ablqlzp'\n 'ZTF18abmjvpb' 'ZTF18abmkaps' 'ZTF18abmmdif' 'ZTF18abmxfrc'\n 'ZTF18abobkii' 'ZTF18aceyjco' 'ZTF18acqsztr' 'ZTF19aajwhbc'\n 'ZTF19aammewd' 'ZTF19aanmdsr' 'ZTF19aanmeyw' 'ZTF19aanuhox'\n 'ZTF19aanxgrz' 'ZTF19aarfnto' 'ZTF19aarprog' 'ZTF19aatgwhs'\n 'ZTF19aathcvn' 'ZTF19aauvjws' 'ZTF19aavmgtv' 'ZTF19aawhniz'\n 'ZTF19aawqckx' 'ZTF19aayslow' 'ZTF19aaziick' 'ZTF19aazlsfj'\n 'ZTF19aazxcvl' 'ZTF19abakdjd' 'ZTF19abbvzgr' 'ZTF19abetjcx'\n 'ZTF19abfdsbu' 'ZTF19abgppki' 'ZTF19abhzewi' 'ZTF19abitbcj'\n 'ZTF19abmzord' 'ZTF19abnmrqt' 'ZTF19abpbqor' 'ZTF19abqhikf'\n 'ZTF19abxdnhr' 'ZTF19abzkexb' 'ZTF19acfrntd' 'ZTF19acordoi'\n 'ZTF19acqehbt' 'ZTF20aaaxacu' 'ZTF20aafcjln' 'ZTF20aaghlkv'\n 'ZTF20aaideho' 'ZTF20aakodiq' 'ZTF20aammhli' 'ZTF20aammicx'\n 'ZTF20aamttni' 'ZTF20aansktb' 'ZTF20aappghn' 'ZTF20aatzwgk'\n 'ZTF20aauonld' 'ZTF20aaurhio' 'ZTF20aauuiri' 'ZTF20aauwhyi'\n 'ZTF20aavnnat' 'ZTF20aavrloz' 'ZTF20aaxicpu' 'ZTF20aazhzna'\n 'ZTF20abawntz' 'ZTF20abegate' 'ZTF20abfsemq' 'ZTF20abguygh'\n 'ZTF20abhmnom' 'ZTF20abpuijn' 'ZTF20abqefja' 'ZTF20abxgwjr'\n 'ZTF20abyfgri' 'ZTF20abyskia']' is an invalid key"
     ]
    }
   ],
   "source": [
    "zs = []\n",
    "mbstars = []\n",
    "dmbstars = []\n",
    "mbcors = []\n",
    "dmbcors = []\n",
    "# overlap = mhd.df[ [ i in saltfits.name.values for i in mhd.df['snname'].values ] ]\n",
    "overlap = mhd.df.xs( saltfits.name.values, level=1 )\n",
    "\n",
    "overlap"
   ]
  },
  {
   "cell_type": "code",
   "execution_count": null,
   "id": "b456d1c6-20e7-4c14-beb0-8032f2326f27",
   "metadata": {},
   "outputs": [],
   "source": [
    "# From a fit I ran...\n",
    "α = 0.151\n",
    "β = 1.559\n",
    "scriptm = 24.135\n",
    "\n",
    "with open( \"z_mbstar_saltparam.dat\", \"w\") as ofp:\n",
    "    ofp.write( f'#{\"z\":>6s}   mbstar  dmbstar   '\n",
    "               f'{\"x0\":>12s} {\"dx0\":>12s}   '\n",
    "               f'{\"x1\":>8s} {\"dx1\":>8s}   '\n",
    "               f'{\"c\":>7s} {\"dc\":>7s}  sn\\n' )\n",
    "    for i, row in saltfits.iterrows():\n",
    "        overlap = mhd.df[ mhd.df['snname'].values == row['name'] ].copy()\n",
    "        if len(overlap) == 0:\n",
    "            sys.stderr.write( f'No overlap for {row[\"name\"]}\\n' )\n",
    "        elif len(overlap) > 1:\n",
    "            sys.stderr.write( f'{len(overlap)} overlaps for {row[\"name\"]}, picking one with closest z to sn z\\n' )\n",
    "            overlap['absdz'] = np.fabs( overlap['z'].values - row['z'] )\n",
    "            overlap = overlap.loc[ overlap['absdz'].idxmin() ]\n",
    "        else:\n",
    "            overlap = overlap.iloc[0]\n",
    "        zs.append( overlap['z'] )\n",
    "        mbstars.append( row['mbstar'] )\n",
    "        dmbstars.append( row['dmbstar'] )\n",
    "\n",
    "        mbcor = row['mbstar'] + α * row['x1'] - β * row['c']\n",
    "        dmbcor = math.sqrt( row['dmbstar']**2 + ( α * row['dx1'] )**2 + ( β * row['dc'] )**2 )\n",
    "        mbcors.append( mbcor )\n",
    "        dmbcors.append( dmbcor )\n",
    "\n",
    "        ofp.write( f'{overlap[\"z\"]:7.4f}   '\n",
    "                   f'{row[\"mbstar\"]:7.4f} {row[\"dmbstar\"]:7.4f}   '\n",
    "                   f'{row[\"x0\"]:12.4e} {row[\"dx0\"]:12.4e}   '\n",
    "                   f'{row[\"x1\"]:8.4f} {row[\"dx1\"]:8.4f}   '\n",
    "                   f'{row[\"c\"]:7.4f} {row[\"dc\"]:7.4f} {row[\"name\"]}\\n' )\n",
    "\n",
    "saltfits['mbcor'] = mbcors\n",
    "saltfits['dmbcor'] = dmbcors"
   ]
  },
  {
   "cell_type": "code",
   "execution_count": 7,
   "id": "74c402c0-501c-491d-ac0c-dfdaf8e75325",
   "metadata": {},
   "outputs": [
    {
     "name": "stdout",
     "output_type": "stream",
     "text": [
      "Plotting 82 points\n"
     ]
    },
    {
     "data": {
      "image/png": "[encoded data removed]",
      "text/plain": [
       "<Figure size 720x432 with 1 Axes>"
      ]
     },
     "metadata": {
      "needs_background": "light"
     },
     "output_type": "display_data"
    }
   ],
   "source": [
    "print( f\"Plotting {len(zs)} points\" )\n",
    "\n",
    "matplotlib.rcParams.update( { 'mathtext.fontset': 'cm',\n",
    "                              'font.family': 'serif' } )\n",
    "\n",
    "fig = pyplot.figure( figsize=(10,6), tight_layout=True )\n",
    "ax = fig.add_subplot(1, 1, 1)\n",
    "\n",
    "ax.errorbar( zs, mbcors, dmbcors, linestyle='None', marker='o' )\n",
    "ax.set_xlabel( \"$z$\", fontsize=32, fontdict = { 'family': 'serif' } )\n",
    "ax.set_ylabel( \"$m_{bcor}$\", fontsize=32, fontfamily='serif' ) #  with α={α} and β={β}\", fontsize=18 )\n",
    "ax.tick_params( axis='both', labelsize=28 )\n",
    "\n",
    "# A fit I ran...\n",
    "\n",
    "zfit = np.arange( 0.01, 0.12, 0.001 )\n",
    "mbcorfit = scriptm + 5 * np.log10( zfit )\n",
    "ax.plot( zfit, mbcorfit, marker=None, color='red' )\n",
    "\n",
    "fig.show()\n",
    "fig.savefig( \"it.svg\" )"
   ]
  },
  {
   "cell_type": "code",
   "execution_count": null,
   "id": "d5363845-fabc-4733-9a18-fe6bc6d82602",
   "metadata": {},
   "outputs": [],
   "source": []
  },
  {
   "cell_type": "code",
   "execution_count": null,
   "id": "981be60d-5cf7-4761-a821-0a3911424edf",
   "metadata": {},
   "outputs": [],
   "source": []
  }
 ],
 "metadata": {
  "kernelspec": {
   "display_name": "DESI master",
   "language": "python",
   "name": "desi-master"
  },
  "language_info": {
   "codemirror_mode": {
    "name": "ipython",
    "version": 3
   },
   "file_extension": ".py",
   "mimetype": "text/x-python",
   "name": "python",
   "nbconvert_exporter": "python",
   "pygments_lexer": "ipython3",
   "version": "3.9.7"
  }
 },
 "nbformat": 4,
 "nbformat_minor": 5
}
