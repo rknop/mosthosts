{
 "cells": [
  {
   "cell_type": "code",
   "execution_count": 1,
   "id": "806cf1a8-850d-4fa1-920a-7ab16daac3aa",
   "metadata": {},
   "outputs": [
    {
     "name": "stderr",
     "output_type": "stream",
     "text": [
      "[2022-06-20 17:39:12,905 - INFO] - Looking for daily spectra at 3 positions w/in 0.0002777777777777778°.)\n",
      "[2022-06-20 17:39:12,912 - DEBUG] - Search table:\n",
      "      name          ra        dec\n",
      "0  SN09alu  214.572816  53.788987\n",
      "1    SN09a  215.982879  35.185546\n",
      "2   SN09ac  186.149690  47.237527\n",
      "[2022-06-20 17:39:12,953 - DEBUG] - Filling temporary table...\n",
      "[2022-06-20 17:39:12,965 - DEBUG] - ...filled.\n",
      "[2022-06-20 17:39:12,965 - DEBUG] - Filling second temporary table...\n",
      "[2022-06-20 17:39:12,971 - DEBUG] - ...filled\n"
     ]
    }
   ],
   "source": [
    "%matplotlib inline\n",
    "import numpy\n",
    "import pandas\n",
    "from desi_specfinder import SpectrumFinder\n",
    "from matplotlib import pyplot\n",
    "\n",
    "searchdata = pandas.DataFrame( [ {'name': 'SN09alu', 'ra': 214.572816, 'dec': 53.788987 },\n",
    "                                {'name': 'SN09a', 'ra': 215.982879, 'dec': 35.185546 },\n",
    "                                {'name': 'SN09ac', 'ra': 186.14969, 'dec': 47.237527 } ] )\n",
    "\n",
    "release = 'daily'\n",
    "desipasswd = \"5kFibers!\"  # \"putdespasswdhere\"\n",
    "\n",
    "# Build a SpectrumInfo object, passing it the list of ras, decs, and (optionally) names of hosts\n",
    "si = SpectrumFinder( searchdata['ra'].values, searchdata['dec'].values, names=searchdata['name'].values, radius=1./3600., collection=release, desipasswd=desipasswd )"
   ]
  },
  {
   "cell_type": "code",
   "execution_count": 2,
   "id": "f8f0d343-bdf7-4be8-bdd4-69aa7855bd8f",
   "metadata": {},
   "outputs": [
    {
     "data": {
      "text/html": [
       "<div>\n",
       "<style scoped>\n",
       "    .dataframe tbody tr th:only-of-type {\n",
       "        vertical-align: middle;\n",
       "    }\n",
       "\n",
       "    .dataframe tbody tr th {\n",
       "        vertical-align: top;\n",
       "    }\n",
       "\n",
       "    .dataframe thead th {\n",
       "        text-align: right;\n",
       "    }\n",
       "</style>\n",
       "<table border=\"1\" class=\"dataframe\">\n",
       "  <thead>\n",
       "    <tr style=\"text-align: right;\">\n",
       "      <th></th>\n",
       "      <th></th>\n",
       "      <th></th>\n",
       "      <th></th>\n",
       "      <th>filename</th>\n",
       "      <th>device_loc</th>\n",
       "      <th>fiber</th>\n",
       "      <th>mean_fiber_ra</th>\n",
       "      <th>mean_fiber_dec</th>\n",
       "      <th>target_ra</th>\n",
       "      <th>target_dec</th>\n",
       "      <th>z</th>\n",
       "      <th>zerr</th>\n",
       "      <th>zwarn</th>\n",
       "      <th>chi2</th>\n",
       "      <th>deltachi2</th>\n",
       "      <th>spectype</th>\n",
       "      <th>subtype</th>\n",
       "      <th>name</th>\n",
       "    </tr>\n",
       "    <tr>\n",
       "      <th>targetid</th>\n",
       "      <th>tileid</th>\n",
       "      <th>petal_loc</th>\n",
       "      <th>night</th>\n",
       "      <th></th>\n",
       "      <th></th>\n",
       "      <th></th>\n",
       "      <th></th>\n",
       "      <th></th>\n",
       "      <th></th>\n",
       "      <th></th>\n",
       "      <th></th>\n",
       "      <th></th>\n",
       "      <th></th>\n",
       "      <th></th>\n",
       "      <th></th>\n",
       "      <th></th>\n",
       "      <th></th>\n",
       "      <th></th>\n",
       "    </tr>\n",
       "  </thead>\n",
       "  <tbody>\n",
       "    <tr>\n",
       "      <th>39633204071631854</th>\n",
       "      <th>20620</th>\n",
       "      <th>9</th>\n",
       "      <th>20220421</th>\n",
       "      <td>daily/tiles/cumulative/20620/20220421/redrock-...</td>\n",
       "      <td>442</td>\n",
       "      <td>4724</td>\n",
       "      <td>186.149766</td>\n",
       "      <td>47.237488</td>\n",
       "      <td>186.149730</td>\n",
       "      <td>47.237511</td>\n",
       "      <td>0.163469</td>\n",
       "      <td>0.000044</td>\n",
       "      <td>0</td>\n",
       "      <td>8468.098463</td>\n",
       "      <td>1641.291418</td>\n",
       "      <td>GALAXY</td>\n",
       "      <td></td>\n",
       "      <td>SN09ac</td>\n",
       "    </tr>\n",
       "    <tr>\n",
       "      <th rowspan=\"2\" valign=\"top\">39633304558764813</th>\n",
       "      <th>174</th>\n",
       "      <th>4</th>\n",
       "      <th>20210405</th>\n",
       "      <td>daily/tiles/cumulative/174/20210405/zbest-4-17...</td>\n",
       "      <td>389</td>\n",
       "      <td>2075</td>\n",
       "      <td>NaN</td>\n",
       "      <td>NaN</td>\n",
       "      <td>214.572828</td>\n",
       "      <td>53.788981</td>\n",
       "      <td>0.074413</td>\n",
       "      <td>0.000028</td>\n",
       "      <td>0</td>\n",
       "      <td>13555.035346</td>\n",
       "      <td>3268.976829</td>\n",
       "      <td>GALAXY</td>\n",
       "      <td></td>\n",
       "      <td>SN09alu</td>\n",
       "    </tr>\n",
       "    <tr>\n",
       "      <th>182</th>\n",
       "      <th>4</th>\n",
       "      <th>20210506</th>\n",
       "      <td>daily/tiles/cumulative/182/20210506/zbest-4-18...</td>\n",
       "      <td>476</td>\n",
       "      <td>2416</td>\n",
       "      <td>NaN</td>\n",
       "      <td>NaN</td>\n",
       "      <td>214.572828</td>\n",
       "      <td>53.788981</td>\n",
       "      <td>0.074455</td>\n",
       "      <td>0.000025</td>\n",
       "      <td>0</td>\n",
       "      <td>11348.816985</td>\n",
       "      <td>5309.306982</td>\n",
       "      <td>GALAXY</td>\n",
       "      <td></td>\n",
       "      <td>SN09alu</td>\n",
       "    </tr>\n",
       "  </tbody>\n",
       "</table>\n",
       "</div>"
      ],
      "text/plain": [
       "                                                                                      filename  \\\n",
       "targetid          tileid petal_loc night                                                         \n",
       "39633204071631854 20620  9         20220421  daily/tiles/cumulative/20620/20220421/redrock-...   \n",
       "39633304558764813 174    4         20210405  daily/tiles/cumulative/174/20210405/zbest-4-17...   \n",
       "                  182    4         20210506  daily/tiles/cumulative/182/20210506/zbest-4-18...   \n",
       "\n",
       "                                             device_loc  fiber  mean_fiber_ra  \\\n",
       "targetid          tileid petal_loc night                                        \n",
       "39633204071631854 20620  9         20220421         442   4724     186.149766   \n",
       "39633304558764813 174    4         20210405         389   2075            NaN   \n",
       "                  182    4         20210506         476   2416            NaN   \n",
       "\n",
       "                                             mean_fiber_dec   target_ra  \\\n",
       "targetid          tileid petal_loc night                                  \n",
       "39633204071631854 20620  9         20220421       47.237488  186.149730   \n",
       "39633304558764813 174    4         20210405             NaN  214.572828   \n",
       "                  182    4         20210506             NaN  214.572828   \n",
       "\n",
       "                                             target_dec         z      zerr  \\\n",
       "targetid          tileid petal_loc night                                      \n",
       "39633204071631854 20620  9         20220421   47.237511  0.163469  0.000044   \n",
       "39633304558764813 174    4         20210405   53.788981  0.074413  0.000028   \n",
       "                  182    4         20210506   53.788981  0.074455  0.000025   \n",
       "\n",
       "                                             zwarn          chi2    deltachi2  \\\n",
       "targetid          tileid petal_loc night                                        \n",
       "39633204071631854 20620  9         20220421      0   8468.098463  1641.291418   \n",
       "39633304558764813 174    4         20210405      0  13555.035346  3268.976829   \n",
       "                  182    4         20210506      0  11348.816985  5309.306982   \n",
       "\n",
       "                                            spectype subtype     name  \n",
       "targetid          tileid petal_loc night                               \n",
       "39633204071631854 20620  9         20220421   GALAXY           SN09ac  \n",
       "39633304558764813 174    4         20210405   GALAXY          SN09alu  \n",
       "                  182    4         20210506   GALAXY          SN09alu  "
      ]
     },
     "execution_count": 2,
     "metadata": {},
     "output_type": "execute_result"
    }
   ],
   "source": [
    "# Notice that there are multiple rows where multiple spectra were found.\n",
    "# The rows where nothing was found are NaN\n",
    "si._tiledata"
   ]
  },
  {
   "cell_type": "code",
   "execution_count": 3,
   "id": "cb6a8260-b86c-4acf-9198-9507c0499b10",
   "metadata": {},
   "outputs": [
    {
     "ename": "NameError",
     "evalue": "name 'result' is not defined",
     "output_type": "error",
     "traceback": [
      "\u001b[0;31m---------------------------------------------------------------------------\u001b[0m",
      "\u001b[0;31mNameError\u001b[0m                                 Traceback (most recent call last)",
      "\u001b[0;32m/tmp/ipykernel_18745/3701151244.py\u001b[0m in \u001b[0;36m<module>\u001b[0;34m\u001b[0m\n\u001b[1;32m      1\u001b[0m \u001b[0;31m# You can pull out the ones that had observations with notnull():\u001b[0m\u001b[0;34m\u001b[0m\u001b[0;34m\u001b[0m\u001b[0m\n\u001b[0;32m----> 2\u001b[0;31m \u001b[0mresult\u001b[0m\u001b[0;34m[\u001b[0m \u001b[0mresult\u001b[0m\u001b[0;34m.\u001b[0m\u001b[0mtargetid\u001b[0m\u001b[0;34m.\u001b[0m\u001b[0mnotnull\u001b[0m\u001b[0;34m(\u001b[0m\u001b[0;34m)\u001b[0m \u001b[0;34m]\u001b[0m\u001b[0;34m\u001b[0m\u001b[0;34m\u001b[0m\u001b[0m\n\u001b[0m",
      "\u001b[0;31mNameError\u001b[0m: name 'result' is not defined"
     ]
    }
   ],
   "source": [
    "# You can pull out the ones that had observations with notnull():\n",
    "result[ result.targetid.notnull() ]"
   ]
  },
  {
   "cell_type": "code",
   "execution_count": 40,
   "id": "4acea274-ba3f-4b71-ada4-d7e12169e2ce",
   "metadata": {},
   "outputs": [
    {
     "data": {
      "text/html": [
       "<div>\n",
       "<style scoped>\n",
       "    .dataframe tbody tr th:only-of-type {\n",
       "        vertical-align: middle;\n",
       "    }\n",
       "\n",
       "    .dataframe tbody tr th {\n",
       "        vertical-align: top;\n",
       "    }\n",
       "\n",
       "    .dataframe thead th {\n",
       "        text-align: right;\n",
       "    }\n",
       "</style>\n",
       "<table border=\"1\" class=\"dataframe\">\n",
       "  <thead>\n",
       "    <tr style=\"text-align: right;\">\n",
       "      <th></th>\n",
       "      <th>name</th>\n",
       "      <th>ra</th>\n",
       "      <th>dec</th>\n",
       "      <th>targetid</th>\n",
       "      <th>tile</th>\n",
       "      <th>petal</th>\n",
       "      <th>night</th>\n",
       "      <th>z</th>\n",
       "      <th>zerr</th>\n",
       "      <th>zwarn</th>\n",
       "      <th>filename</th>\n",
       "      <th>spectype</th>\n",
       "      <th>subtype</th>\n",
       "    </tr>\n",
       "  </thead>\n",
       "  <tbody>\n",
       "    <tr>\n",
       "      <th>1</th>\n",
       "      <td>SN09a</td>\n",
       "      <td>215.982879</td>\n",
       "      <td>35.185546</td>\n",
       "      <td>NaN</td>\n",
       "      <td>NaN</td>\n",
       "      <td>NaN</td>\n",
       "      <td>NaN</td>\n",
       "      <td>NaN</td>\n",
       "      <td>NaN</td>\n",
       "      <td>NaN</td>\n",
       "      <td>NaN</td>\n",
       "      <td>NaN</td>\n",
       "      <td>NaN</td>\n",
       "    </tr>\n",
       "  </tbody>\n",
       "</table>\n",
       "</div>"
      ],
      "text/plain": [
       "    name          ra        dec  targetid  tile  petal  night   z  zerr  \\\n",
       "1  SN09a  215.982879  35.185546       NaN   NaN    NaN    NaN NaN   NaN   \n",
       "\n",
       "   zwarn filename spectype subtype  \n",
       "1    NaN      NaN      NaN     NaN  "
      ]
     },
     "execution_count": 40,
     "metadata": {},
     "output_type": "execute_result"
    }
   ],
   "source": [
    "# You can pull out the ones without observations with isnull()\n",
    "result[ result.targetid.isnull() ]"
   ]
  },
  {
   "cell_type": "code",
   "execution_count": 41,
   "id": "f1b10d26-e93c-4e2f-9de5-9255d82822c3",
   "metadata": {},
   "outputs": [
    {
     "name": "stdout",
     "output_type": "stream",
     "text": [
      "2 have spectra\n",
      "1 do not\n"
     ]
    }
   ],
   "source": [
    "print( f'{len(result[result.targetid.notnull()].groupby(\"name\"))} have spectra' )\n",
    "print( f'{len(result[result.targetid.isnull()].groupby(\"name\"))} do not' ) "
   ]
  },
  {
   "cell_type": "code",
   "execution_count": 43,
   "id": "59efe88d-f00a-4ea2-99ac-32add381eef5",
   "metadata": {},
   "outputs": [
    {
     "name": "stderr",
     "output_type": "stream",
     "text": [
      "[2022-06-20 15:29:57,138 - INFO] - Looking for daily spectra at (214.5728, 53.7890)\n"
     ]
    },
    {
     "name": "stdout",
     "output_type": "stream",
     "text": [
      "Targets found with spectra: {39633304558764813}\n"
     ]
    }
   ],
   "source": [
    "# DIFFERENT THING\n",
    "\n",
    "# Get the actual spectrum for the object\n",
    "survey = release    # daily, everst, fuji, or guadalupe\n",
    "specinf = SpectrumInfo( data.iloc[0]['ra'], data.iloc[0]['dec'], collection=survey, desipasswd=desipasswd)\n",
    "print( f\"Targets found with spectra: {specinf.targetids}\" )"
   ]
  },
  {
   "cell_type": "code",
   "execution_count": 44,
   "id": "89ab3d71-8123-4523-8436-9cf3e734b225",
   "metadata": {},
   "outputs": [
    {
     "name": "stdout",
     "output_type": "stream",
     "text": [
      "[{'z': 0.0744127307916863, 'zerr': 2.75092937715152e-05, 'zwarn': 0, 'deltachi2': 3268.97682878166, 'filename': 'daily/tiles/cumulative/174/20210405/zbest-4-174-thru20210405.fits', 'tileid': 174, 'petal_loc': 4, 'device_loc': 389, 'night': 20210405}, {'z': 0.0744554092356092, 'zerr': 2.53984261047757e-05, 'zwarn': 0, 'deltachi2': 5309.30698201107, 'filename': 'daily/tiles/cumulative/182/20210506/zbest-4-182-thru20210506.fits', 'tileid': 182, 'petal_loc': 4, 'device_loc': 476, 'night': 20210506}]\n"
     ]
    }
   ],
   "source": [
    "# get the first targetid ; turns out here there are two different spectra\n",
    "targ = next(iter(specinf.targetids))\n",
    "print( f'{specinf.info_for_targetid(targ)}' )"
   ]
  },
  {
   "cell_type": "code",
   "execution_count": 19,
   "id": "61cacb3a-03d0-4274-90f4-e1ce28ea90e0",
   "metadata": {},
   "outputs": [
    {
     "name": "stdout",
     "output_type": "stream",
     "text": [
      "INFO:spectra.py:291:read_spectra: iotime 0.507 sec to read coadd-4-174-thru20210405.fits at 2022-06-20T15:06:56.107115\n",
      "INFO:spectra.py:291:read_spectra: iotime 0.443 sec to read coadd-4-182-thru20210506.fits at 2022-06-20T15:06:57.008449\n"
     ]
    }
   ],
   "source": [
    "spectra = specinf.get_spectra( targ )\n",
    "spectrum = spectra[0]"
   ]
  },
  {
   "cell_type": "code",
   "execution_count": 33,
   "id": "1857fddb-0a19-4d3e-a2bb-d888dbec465b",
   "metadata": {},
   "outputs": [],
   "source": [
    "# Put this in the fromat that Alex wants\n",
    "λ = spectrum.wave['brz']\n",
    "flux = spectrum.flux['brz'][0]\n",
    "ivar = spectrum.ivar['brz'][0]\n",
    "mask = spectrum.mask['brz'][0]\n",
    "\n",
    "# This is equivalent ot what was in Alex's code\n",
    "# This is a strange data structure.  A pandas table]\n",
    "# would make way more sense here.\n",
    "specdata = numpy.array( [ numpy.log(λ) , flux * λ , ivar/λ**2 , mask ], dtype=object )\n",
    "#\n",
    "# This would be just building a single numpy array\n",
    "# specdata = numpy.empty( ( 4, len(λ) ), dtype=numpy.float64 )\n",
    "# specdata[ 0, : ] = numpy.log(λ)\n",
    "# specdata[ 1, : ] = flux * λ\n",
    "# specdata[ 2, : ] = ivar / λ**2\n",
    "# specdata[ 3, : ] = mask"
   ]
  },
  {
   "cell_type": "code",
   "execution_count": 34,
   "id": "d1054041-1af1-4720-bc3f-173d72a84741",
   "metadata": {},
   "outputs": [
    {
     "data": {
      "text/plain": [
       "(1, 7781)"
      ]
     },
     "execution_count": 34,
     "metadata": {},
     "output_type": "execute_result"
    }
   ],
   "source": [
    "spectrum.mask['brz'].shape"
   ]
  },
  {
   "cell_type": "code",
   "execution_count": 35,
   "id": "e64442f3-d680-49b0-b4cf-b8f8a5bf356f",
   "metadata": {},
   "outputs": [
    {
     "data": {
      "text/plain": [
       "[<matplotlib.lines.Line2D at 0x1554bb9a5b20>]"
      ]
     },
     "execution_count": 35,
     "metadata": {},
     "output_type": "execute_result"
    },
    {
     "data": {
      "image/png": "[encoded data removed]",
      "text/plain": [
       "<Figure size 432x288 with 1 Axes>"
      ]
     },
     "metadata": {
      "needs_background": "light"
     },
     "output_type": "display_data"
    }
   ],
   "source": [
    "pyplot.plot( specdata[0][:], specdata[1][:] )"
   ]
  },
  {
   "cell_type": "code",
   "execution_count": null,
   "id": "633f26f0-c805-43c6-b70d-4af5cabce050",
   "metadata": {},
   "outputs": [],
   "source": []
  }
 ],
 "metadata": {
  "kernelspec": {
   "display_name": "DESI master",
   "language": "python",
   "name": "desi-master"
  },
  "language_info": {
   "codemirror_mode": {
    "name": "ipython",
    "version": 3
   },
   "file_extension": ".py",
   "mimetype": "text/x-python",
   "name": "python",
   "nbconvert_exporter": "python",
   "pygments_lexer": "ipython3",
   "version": "3.9.7"
  }
 },
 "nbformat": 4,
 "nbformat_minor": 5
}
