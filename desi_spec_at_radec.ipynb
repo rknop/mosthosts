{
 "cells": [
  {
   "cell_type": "code",
   "execution_count": 1,
   "id": "806cf1a8-850d-4fa1-920a-7ab16daac3aa",
   "metadata": {},
   "outputs": [
    {
     "name": "stderr",
     "output_type": "stream",
     "text": [
      "[2022-12-05 11:09:25,452 - INFO] - Looking for daily spectra at 3 positions w/in 0.0002777777777777778°.)\n",
      "[2022-12-05 11:09:25,456 - DEBUG] - Search table:\n",
      "      name          ra        dec\n",
      "0  SN09alu  214.572816  53.788987\n",
      "1    SN09a  215.982879  35.185546\n",
      "2   SN09ac  186.149690  47.237527\n",
      "[2022-12-05 11:09:25,483 - DEBUG] - Filling temporary table...\n",
      "[2022-12-05 11:09:25,492 - DEBUG] - ...filled.\n",
      "[2022-12-05 11:09:25,493 - DEBUG] - Filling second temporary table...\n",
      "[2022-12-05 11:09:25,497 - DEBUG] - ...filled\n"
     ]
    }
   ],
   "source": [
    "# Must be run in the DESI environment (use DESI Master kernel)\n",
    "\n",
    "%matplotlib inline\n",
    "import numpy\n",
    "import pandas\n",
    "from desi_specfinder import SpectrumFinder\n",
    "from matplotlib import pyplot\n",
    "\n",
    "searchdata = pandas.DataFrame( [ {'name': 'SN09alu', 'ra': 214.572816, 'dec': 53.788987 },\n",
    "                                {'name': 'SN09a', 'ra': 215.982879, 'dec': 35.185546 },\n",
    "                                {'name': 'SN09ac', 'ra': 186.14969, 'dec': 47.237527 } ] )\n",
    "\n",
    "release = 'daily'\n",
    "desipasswd = \"5kFibers!\"  # \"putdespasswdhere\"\n",
    "\n",
    "# Build a SpectrumInfo object, passing it the list of ras, decs, and (optionally) names of hosts\n",
    "# (I did it from a pandas dataframe, but you can just make three lists.)\n",
    "# radius is the how close the target must be (in degrees) to your specified ra/dec for a match to be found\n",
    "# collection is \"daily\" or \"everest\"\n",
    "\n",
    "si = SpectrumFinder( searchdata['ra'].values, searchdata['dec'].values, names=searchdata['name'].values, radius=1./3600., collection=release, desipasswd=desipasswd )"
   ]
  },
  {
   "cell_type": "code",
   "execution_count": 2,
   "id": "f8f0d343-bdf7-4be8-bdd4-69aa7855bd8f",
   "metadata": {},
   "outputs": [
    {
     "name": "stdout",
     "output_type": "stream",
     "text": [
      "{39633304558764813, 39633204071631854}\n"
     ]
    }
   ],
   "source": [
    "# You can can get the list of all targetids that matched anything by looking at the SpectrumFinder's targetids property:\n",
    "print( si.targetids )"
   ]
  },
  {
   "cell_type": "code",
   "execution_count": 3,
   "id": "a7ba63c7-4a1d-424a-972a-44cbadd564d8",
   "metadata": {},
   "outputs": [
    {
     "name": "stdout",
     "output_type": "stream",
     "text": [
      "Targetids for SN09alu: {39633304558764813}\n",
      "Targetids for SN09a: set()\n",
      "Targetids for SN09ac: {39633204071631854}\n"
     ]
    }
   ],
   "source": [
    "# You can get the targetids (as a set) for a given object with SpectrumFinder.targetids_for_name()\n",
    "# In this example, one object isn't observed.  The other two have a single targetid\n",
    "# with one or more observations.  It's possible that the same object will have more\n",
    "# than one targetid!  That didn't happen in this example, but it could.\n",
    "\n",
    "for name in searchdata['name'].values:\n",
    "    print( f\"Targetids for {name}: {si.targetids_for_name(name)}\" )"
   ]
  },
  {
   "cell_type": "code",
   "execution_count": 6,
   "id": "cb6a8260-b86c-4acf-9198-9507c0499b10",
   "metadata": {},
   "outputs": [
    {
     "data": {
      "text/plain": [
       "[{'z': 0.0744127307916863,\n",
       "  'zerr': 2.75092937715152e-05,\n",
       "  'zwarn': 0,\n",
       "  'deltachi2': 3268.97682878166,\n",
       "  'filename': 'daily/tiles/cumulative/174/20210405/zbest-4-174-thru20210405.fits',\n",
       "  'tileid': 174,\n",
       "  'petal_loc': 4,\n",
       "  'device_loc': 389,\n",
       "  'night': 20210405},\n",
       " {'z': 0.0744554092356092,\n",
       "  'zerr': 2.53984261047757e-05,\n",
       "  'zwarn': 0,\n",
       "  'deltachi2': 5309.30698201107,\n",
       "  'filename': 'daily/tiles/cumulative/182/20210506/zbest-4-182-thru20210506.fits',\n",
       "  'tileid': 182,\n",
       "  'petal_loc': 4,\n",
       "  'device_loc': 476,\n",
       "  'night': 20210506}]"
      ]
     },
     "execution_count": 6,
     "metadata": {},
     "output_type": "execute_result"
    }
   ],
   "source": [
    "# You can get information the spectra for a given targetid with SpectrumFinder.info_for_targetid:\n",
    "# What you get is a list of dicts.  Notice in this example that there are *two* spectra for the\n",
    "# targetid I chose, one on 2021-04-05, the other on 2021-05-06.  Happily, they give the same redshift....\n",
    "\n",
    "tid = list( si.targetids_for_name('SN09alu') )[0]\n",
    "targetinfo = si.info_for_targetid( tid )\n",
    "targetinfo"
   ]
  },
  {
   "cell_type": "code",
   "execution_count": 7,
   "id": "cb8f821a-685f-4c53-91dc-042f25011fcf",
   "metadata": {},
   "outputs": [
    {
     "data": {
      "text/html": [
       "<div>\n",
       "<style scoped>\n",
       "    .dataframe tbody tr th:only-of-type {\n",
       "        vertical-align: middle;\n",
       "    }\n",
       "\n",
       "    .dataframe tbody tr th {\n",
       "        vertical-align: top;\n",
       "    }\n",
       "\n",
       "    .dataframe thead th {\n",
       "        text-align: right;\n",
       "    }\n",
       "</style>\n",
       "<table border=\"1\" class=\"dataframe\">\n",
       "  <thead>\n",
       "    <tr style=\"text-align: right;\">\n",
       "      <th></th>\n",
       "      <th>z</th>\n",
       "      <th>zerr</th>\n",
       "      <th>zwarn</th>\n",
       "      <th>deltachi2</th>\n",
       "      <th>filename</th>\n",
       "      <th>tileid</th>\n",
       "      <th>petal_loc</th>\n",
       "      <th>device_loc</th>\n",
       "      <th>night</th>\n",
       "    </tr>\n",
       "  </thead>\n",
       "  <tbody>\n",
       "    <tr>\n",
       "      <th>0</th>\n",
       "      <td>0.074413</td>\n",
       "      <td>0.000028</td>\n",
       "      <td>0</td>\n",
       "      <td>3268.976829</td>\n",
       "      <td>daily/tiles/cumulative/174/20210405/zbest-4-17...</td>\n",
       "      <td>174</td>\n",
       "      <td>4</td>\n",
       "      <td>389</td>\n",
       "      <td>20210405</td>\n",
       "    </tr>\n",
       "    <tr>\n",
       "      <th>1</th>\n",
       "      <td>0.074455</td>\n",
       "      <td>0.000025</td>\n",
       "      <td>0</td>\n",
       "      <td>5309.306982</td>\n",
       "      <td>daily/tiles/cumulative/182/20210506/zbest-4-18...</td>\n",
       "      <td>182</td>\n",
       "      <td>4</td>\n",
       "      <td>476</td>\n",
       "      <td>20210506</td>\n",
       "    </tr>\n",
       "  </tbody>\n",
       "</table>\n",
       "</div>"
      ],
      "text/plain": [
       "          z      zerr  zwarn    deltachi2  \\\n",
       "0  0.074413  0.000028      0  3268.976829   \n",
       "1  0.074455  0.000025      0  5309.306982   \n",
       "\n",
       "                                            filename  tileid  petal_loc  \\\n",
       "0  daily/tiles/cumulative/174/20210405/zbest-4-17...     174          4   \n",
       "1  daily/tiles/cumulative/182/20210506/zbest-4-18...     182          4   \n",
       "\n",
       "   device_loc     night  \n",
       "0         389  20210405  \n",
       "1         476  20210506  "
      ]
     },
     "execution_count": 7,
     "metadata": {},
     "output_type": "execute_result"
    }
   ],
   "source": [
    "# this result is also easily pandas-able\n",
    "targetinfodf = pandas.DataFrame( targetinfo )\n",
    "targetinfodf"
   ]
  },
  {
   "cell_type": "code",
   "execution_count": 24,
   "id": "df8b6529-9227-4012-bf9d-bb172c3c0702",
   "metadata": {},
   "outputs": [
    {
     "name": "stdout",
     "output_type": "stream",
     "text": [
      "INFO:spectra.py:291:read_spectra: iotime 0.397 sec to read coadd-4-174-thru20210405.fits at 2022-12-05T11:20:13.176832\n",
      "INFO:spectra.py:291:read_spectra: iotime 0.398 sec to read coadd-4-182-thru20210506.fits at 2022-12-05T11:20:14.005729\n"
     ]
    },
    {
     "data": {
      "text/plain": [
       "[<desispec.spectra.Spectra at 0x1554bcb053a0>,\n",
       " <desispec.spectra.Spectra at 0x1554bb7aa340>]"
      ]
     },
     "execution_count": 24,
     "metadata": {},
     "output_type": "execute_result"
    }
   ],
   "source": [
    "# You can get all spectra for a given targetid with SpectrumFinder.get_spectra\n",
    "# (If you want just a single spectrum, use SpectrumFinder.get_spectrum( targetid, tile, petal, night )\n",
    "#\n",
    "# This returns a list of desispec.spectra.Spectra objects\n",
    "# For information about desispec, see : https://desispec.readthedocs.io/en/latest/\n",
    "#\n",
    "# For these spectra, I've combined together the three channels, so there's just a\n",
    "# 'brz' entry to wave, flux, and ivar\n",
    "\n",
    "spectra = si.get_spectra( tid, smooth=4 )\n",
    "spectra"
   ]
  },
  {
   "cell_type": "code",
   "execution_count": 32,
   "id": "832aefc2-b989-4e76-94a8-39fd7b4dac03",
   "metadata": {},
   "outputs": [
    {
     "data": {
      "text/plain": [
       "Text(0, 0.5, 'flux density')"
      ]
     },
     "execution_count": 32,
     "metadata": {},
     "output_type": "execute_result"
    },
    {
     "data": {
      "image/png": "[encoded data removed]",
      "text/plain": [
       "<Figure size 1080x432 with 1 Axes>"
      ]
     },
     "metadata": {
      "needs_background": "light"
     },
     "output_type": "display_data"
    }
   ],
   "source": [
    "# Plot the second spectrum:\n",
    "fig = pyplot.figure( figsize=(15,6), tight_layout=True )\n",
    "ax = fig.add_subplot( 1, 1, 1 )\n",
    "ax.plot( spectra[1].wave['brz'], spectra[1].flux['brz'][0, :] )\n",
    "ax.set_xlabel( 'λ (Å)' )\n",
    "ax.set_ylabel( 'flux density' )"
   ]
  }
 ],
 "metadata": {
  "kernelspec": {
   "display_name": "DESI master",
   "language": "python",
   "name": "desi-master"
  },
  "language_info": {
   "codemirror_mode": {
    "name": "ipython",
    "version": 3
   },
   "file_extension": ".py",
   "mimetype": "text/x-python",
   "name": "python",
   "nbconvert_exporter": "python",
   "pygments_lexer": "ipython3",
   "version": "3.9.7"
  }
 },
 "nbformat": 4,
 "nbformat_minor": 5
}
